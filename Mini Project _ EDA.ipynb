{
 "cells": [
  {
   "cell_type": "markdown",
   "metadata": {},
   "source": [
    "### Problem Statement:\n",
    "\n",
    "A new football club named ‘Brussels United FC’ has just been inaugurated. This club does not have a team yet. The team is looking to hire players for their roster. Management wants to make such decisions using data based approach. During a recent hiring drive, you were selected for the Data Science team as a Junior data scientist. Your team has been tasked with creating a report which recommends players for the main team. To start with, a total 15 players are required. Player data for all teams has been acquired from FIFA. This data contains information about the palyers, the clubs they are currently playing for and various performance measures.\n",
    "There is a limited budget for hiring players. The team needs 20 possible players to choose from. You have been requested to formulate a report in order to help the management make a decision regarding potential players.\n",
    "\n",
    "Data:\n",
    "The data contains details for over 18,000 players playing in various football clubs in Europe. It contains information on age, skill rating, wages and player value, etc. The files provided are as folows: \n",
    "fifa.csv – data file.\n",
    "fifa_ variable_information.csv - information on individual variables.\n",
    "\n",
    "\n",
    "\n"
   ]
  },
  {
   "cell_type": "markdown",
   "metadata": {},
   "source": [
    "## Data Preprocessing:\n",
    "\n"
   ]
  },
  {
   "cell_type": "markdown",
   "metadata": {},
   "source": [
    "### 1.\tImport the necessary libraries and read the data.\n"
   ]
  },
  {
   "cell_type": "code",
   "execution_count": 29,
   "metadata": {},
   "outputs": [],
   "source": [
    "import numpy as np\n",
    "import pandas as pd\n",
    "import matplotlib.pyplot as plt\n",
    "import seaborn as sns"
   ]
  },
  {
   "cell_type": "code",
   "execution_count": 30,
   "metadata": {},
   "outputs": [
    {
     "data": {
      "text/html": [
       "<div>\n",
       "<style scoped>\n",
       "    .dataframe tbody tr th:only-of-type {\n",
       "        vertical-align: middle;\n",
       "    }\n",
       "\n",
       "    .dataframe tbody tr th {\n",
       "        vertical-align: top;\n",
       "    }\n",
       "\n",
       "    .dataframe thead th {\n",
       "        text-align: right;\n",
       "    }\n",
       "</style>\n",
       "<table border=\"1\" class=\"dataframe\">\n",
       "  <thead>\n",
       "    <tr style=\"text-align: right;\">\n",
       "      <th></th>\n",
       "      <th>ID</th>\n",
       "      <th>Name</th>\n",
       "      <th>Age</th>\n",
       "      <th>Photo</th>\n",
       "      <th>Nationality</th>\n",
       "      <th>Flag</th>\n",
       "      <th>Overall</th>\n",
       "      <th>Potential</th>\n",
       "      <th>Club</th>\n",
       "      <th>Club Logo</th>\n",
       "      <th>...</th>\n",
       "      <th>Composure</th>\n",
       "      <th>Marking</th>\n",
       "      <th>StandingTackle</th>\n",
       "      <th>SlidingTackle</th>\n",
       "      <th>GKDiving</th>\n",
       "      <th>GKHandling</th>\n",
       "      <th>GKKicking</th>\n",
       "      <th>GKPositioning</th>\n",
       "      <th>GKReflexes</th>\n",
       "      <th>Release Clause</th>\n",
       "    </tr>\n",
       "  </thead>\n",
       "  <tbody>\n",
       "    <tr>\n",
       "      <th>0</th>\n",
       "      <td>244274</td>\n",
       "      <td>A. Šemper</td>\n",
       "      <td>20</td>\n",
       "      <td>https://cdn.sofifa.org/players/4/19/244274.png</td>\n",
       "      <td>Croatia</td>\n",
       "      <td>https://cdn.sofifa.org/flags/10.png</td>\n",
       "      <td>67</td>\n",
       "      <td>80</td>\n",
       "      <td>Chievo Verona</td>\n",
       "      <td>https://cdn.sofifa.org/teams/2/light/192.png</td>\n",
       "      <td>...</td>\n",
       "      <td>21.0</td>\n",
       "      <td>13.0</td>\n",
       "      <td>12.0</td>\n",
       "      <td>15.0</td>\n",
       "      <td>71.0</td>\n",
       "      <td>63.0</td>\n",
       "      <td>61.0</td>\n",
       "      <td>68.0</td>\n",
       "      <td>65.0</td>\n",
       "      <td>€2.8M</td>\n",
       "    </tr>\n",
       "    <tr>\n",
       "      <th>1</th>\n",
       "      <td>231786</td>\n",
       "      <td>A. Šporar</td>\n",
       "      <td>24</td>\n",
       "      <td>https://cdn.sofifa.org/players/4/19/231786.png</td>\n",
       "      <td>Slovenia</td>\n",
       "      <td>https://cdn.sofifa.org/flags/44.png</td>\n",
       "      <td>69</td>\n",
       "      <td>76</td>\n",
       "      <td>NaN</td>\n",
       "      <td>https://cdn.sofifa.org/flags/44.png</td>\n",
       "      <td>...</td>\n",
       "      <td>68.0</td>\n",
       "      <td>15.0</td>\n",
       "      <td>11.0</td>\n",
       "      <td>18.0</td>\n",
       "      <td>9.0</td>\n",
       "      <td>12.0</td>\n",
       "      <td>7.0</td>\n",
       "      <td>8.0</td>\n",
       "      <td>7.0</td>\n",
       "      <td>NaN</td>\n",
       "    </tr>\n",
       "    <tr>\n",
       "      <th>2</th>\n",
       "      <td>186508</td>\n",
       "      <td>A. Østbø</td>\n",
       "      <td>27</td>\n",
       "      <td>https://cdn.sofifa.org/players/4/19/186508.png</td>\n",
       "      <td>Norway</td>\n",
       "      <td>https://cdn.sofifa.org/flags/36.png</td>\n",
       "      <td>65</td>\n",
       "      <td>69</td>\n",
       "      <td>Rosenborg BK</td>\n",
       "      <td>https://cdn.sofifa.org/teams/2/light/298.png</td>\n",
       "      <td>...</td>\n",
       "      <td>46.0</td>\n",
       "      <td>23.0</td>\n",
       "      <td>14.0</td>\n",
       "      <td>10.0</td>\n",
       "      <td>63.0</td>\n",
       "      <td>64.0</td>\n",
       "      <td>62.0</td>\n",
       "      <td>61.0</td>\n",
       "      <td>67.0</td>\n",
       "      <td>€653K</td>\n",
       "    </tr>\n",
       "    <tr>\n",
       "      <th>3</th>\n",
       "      <td>246257</td>\n",
       "      <td>A. Ćatić</td>\n",
       "      <td>19</td>\n",
       "      <td>https://cdn.sofifa.org/players/4/19/246257.png</td>\n",
       "      <td>Bosnia Herzegovina</td>\n",
       "      <td>https://cdn.sofifa.org/flags/8.png</td>\n",
       "      <td>60</td>\n",
       "      <td>75</td>\n",
       "      <td>PSV</td>\n",
       "      <td>https://cdn.sofifa.org/teams/2/light/247.png</td>\n",
       "      <td>...</td>\n",
       "      <td>52.0</td>\n",
       "      <td>28.0</td>\n",
       "      <td>29.0</td>\n",
       "      <td>30.0</td>\n",
       "      <td>7.0</td>\n",
       "      <td>8.0</td>\n",
       "      <td>7.0</td>\n",
       "      <td>13.0</td>\n",
       "      <td>12.0</td>\n",
       "      <td>€911K</td>\n",
       "    </tr>\n",
       "    <tr>\n",
       "      <th>4</th>\n",
       "      <td>229594</td>\n",
       "      <td>A. Ćorić</td>\n",
       "      <td>21</td>\n",
       "      <td>https://cdn.sofifa.org/players/4/19/229594.png</td>\n",
       "      <td>Croatia</td>\n",
       "      <td>https://cdn.sofifa.org/flags/10.png</td>\n",
       "      <td>76</td>\n",
       "      <td>88</td>\n",
       "      <td>Roma</td>\n",
       "      <td>https://cdn.sofifa.org/teams/2/light/52.png</td>\n",
       "      <td>...</td>\n",
       "      <td>78.0</td>\n",
       "      <td>44.0</td>\n",
       "      <td>31.0</td>\n",
       "      <td>24.0</td>\n",
       "      <td>15.0</td>\n",
       "      <td>10.0</td>\n",
       "      <td>14.0</td>\n",
       "      <td>14.0</td>\n",
       "      <td>7.0</td>\n",
       "      <td>€26.6M</td>\n",
       "    </tr>\n",
       "  </tbody>\n",
       "</table>\n",
       "<p>5 rows × 60 columns</p>\n",
       "</div>"
      ],
      "text/plain": [
       "       ID       Name  Age                                           Photo  \\\n",
       "0  244274  A. Šemper   20  https://cdn.sofifa.org/players/4/19/244274.png   \n",
       "1  231786  A. Šporar   24  https://cdn.sofifa.org/players/4/19/231786.png   \n",
       "2  186508   A. Østbø   27  https://cdn.sofifa.org/players/4/19/186508.png   \n",
       "3  246257   A. Ćatić   19  https://cdn.sofifa.org/players/4/19/246257.png   \n",
       "4  229594   A. Ćorić   21  https://cdn.sofifa.org/players/4/19/229594.png   \n",
       "\n",
       "          Nationality                                 Flag  Overall  \\\n",
       "0             Croatia  https://cdn.sofifa.org/flags/10.png       67   \n",
       "1            Slovenia  https://cdn.sofifa.org/flags/44.png       69   \n",
       "2              Norway  https://cdn.sofifa.org/flags/36.png       65   \n",
       "3  Bosnia Herzegovina   https://cdn.sofifa.org/flags/8.png       60   \n",
       "4             Croatia  https://cdn.sofifa.org/flags/10.png       76   \n",
       "\n",
       "   Potential           Club                                     Club Logo  \\\n",
       "0         80  Chievo Verona  https://cdn.sofifa.org/teams/2/light/192.png   \n",
       "1         76            NaN           https://cdn.sofifa.org/flags/44.png   \n",
       "2         69   Rosenborg BK  https://cdn.sofifa.org/teams/2/light/298.png   \n",
       "3         75            PSV  https://cdn.sofifa.org/teams/2/light/247.png   \n",
       "4         88           Roma   https://cdn.sofifa.org/teams/2/light/52.png   \n",
       "\n",
       "   ... Composure Marking StandingTackle  SlidingTackle  GKDiving  GKHandling  \\\n",
       "0  ...      21.0    13.0           12.0           15.0      71.0        63.0   \n",
       "1  ...      68.0    15.0           11.0           18.0       9.0        12.0   \n",
       "2  ...      46.0    23.0           14.0           10.0      63.0        64.0   \n",
       "3  ...      52.0    28.0           29.0           30.0       7.0         8.0   \n",
       "4  ...      78.0    44.0           31.0           24.0      15.0        10.0   \n",
       "\n",
       "  GKKicking GKPositioning GKReflexes  Release Clause  \n",
       "0      61.0          68.0       65.0           €2.8M  \n",
       "1       7.0           8.0        7.0             NaN  \n",
       "2      62.0          61.0       67.0           €653K  \n",
       "3       7.0          13.0       12.0           €911K  \n",
       "4      14.0          14.0        7.0          €26.6M  \n",
       "\n",
       "[5 rows x 60 columns]"
      ]
     },
     "execution_count": 30,
     "metadata": {},
     "output_type": "execute_result"
    }
   ],
   "source": [
    "df=pd.read_csv('fifa.csv')\n",
    "df.head()"
   ]
  },
  {
   "cell_type": "code",
   "execution_count": 31,
   "metadata": {},
   "outputs": [
    {
     "data": {
      "text/plain": [
       "Index(['ID', 'Name', 'Age', 'Photo', 'Nationality', 'Flag', 'Overall',\n",
       "       'Potential', 'Club', 'Club Logo', 'Value', 'Wage', 'Preferred Foot',\n",
       "       'International Reputation', 'Weak Foot', 'Skill Moves', 'Work Rate',\n",
       "       'Body Type', 'Position', 'Jersey Number', 'Joined', 'Loaned From',\n",
       "       'Contract Valid Until', 'Height', 'Weight', 'Crossing', 'Finishing',\n",
       "       'HeadingAccuracy', 'ShortPassing', 'Volleys', 'Dribbling', 'Curve',\n",
       "       'FKAccuracy', 'LongPassing', 'BallControl', 'Acceleration',\n",
       "       'SprintSpeed', 'Agility', 'Reactions', 'Balance', 'ShotPower',\n",
       "       'Jumping', 'Stamina', 'Strength', 'LongShots', 'Aggression',\n",
       "       'Interceptions', 'Positioning', 'Vision', 'Penalties', 'Composure',\n",
       "       'Marking', 'StandingTackle', 'SlidingTackle', 'GKDiving', 'GKHandling',\n",
       "       'GKKicking', 'GKPositioning', 'GKReflexes', 'Release Clause'],\n",
       "      dtype='object')"
      ]
     },
     "execution_count": 31,
     "metadata": {},
     "output_type": "execute_result"
    }
   ],
   "source": [
    "df.columns"
   ]
  },
  {
   "cell_type": "code",
   "execution_count": 32,
   "metadata": {},
   "outputs": [],
   "source": [
    "df_col=pd.read_csv('fifa_ variable_information.csv')"
   ]
  },
  {
   "cell_type": "code",
   "execution_count": 33,
   "metadata": {},
   "outputs": [
    {
     "data": {
      "text/html": [
       "<div>\n",
       "<style scoped>\n",
       "    .dataframe tbody tr th:only-of-type {\n",
       "        vertical-align: middle;\n",
       "    }\n",
       "\n",
       "    .dataframe tbody tr th {\n",
       "        vertical-align: top;\n",
       "    }\n",
       "\n",
       "    .dataframe thead th {\n",
       "        text-align: right;\n",
       "    }\n",
       "</style>\n",
       "<table border=\"1\" class=\"dataframe\">\n",
       "  <thead>\n",
       "    <tr style=\"text-align: right;\">\n",
       "      <th></th>\n",
       "      <th>ID</th>\n",
       "      <th>unique id for every player</th>\n",
       "    </tr>\n",
       "  </thead>\n",
       "  <tbody>\n",
       "    <tr>\n",
       "      <th>0</th>\n",
       "      <td>Name</td>\n",
       "      <td>name</td>\n",
       "    </tr>\n",
       "    <tr>\n",
       "      <th>1</th>\n",
       "      <td>Age</td>\n",
       "      <td>age</td>\n",
       "    </tr>\n",
       "    <tr>\n",
       "      <th>2</th>\n",
       "      <td>Photo</td>\n",
       "      <td>url to the player's photo</td>\n",
       "    </tr>\n",
       "    <tr>\n",
       "      <th>3</th>\n",
       "      <td>Nationality</td>\n",
       "      <td>nationality</td>\n",
       "    </tr>\n",
       "    <tr>\n",
       "      <th>4</th>\n",
       "      <td>Flag</td>\n",
       "      <td>url to players's country flag</td>\n",
       "    </tr>\n",
       "    <tr>\n",
       "      <th>5</th>\n",
       "      <td>Overall</td>\n",
       "      <td>overall rating</td>\n",
       "    </tr>\n",
       "    <tr>\n",
       "      <th>6</th>\n",
       "      <td>Potential</td>\n",
       "      <td>potential rating</td>\n",
       "    </tr>\n",
       "    <tr>\n",
       "      <th>7</th>\n",
       "      <td>Club</td>\n",
       "      <td>current club</td>\n",
       "    </tr>\n",
       "    <tr>\n",
       "      <th>8</th>\n",
       "      <td>Club Logo</td>\n",
       "      <td>url to club logo</td>\n",
       "    </tr>\n",
       "    <tr>\n",
       "      <th>9</th>\n",
       "      <td>Value</td>\n",
       "      <td>current market value</td>\n",
       "    </tr>\n",
       "    <tr>\n",
       "      <th>10</th>\n",
       "      <td>Wage</td>\n",
       "      <td>current wage</td>\n",
       "    </tr>\n",
       "    <tr>\n",
       "      <th>11</th>\n",
       "      <td>Preferred Foot</td>\n",
       "      <td>left/right</td>\n",
       "    </tr>\n",
       "    <tr>\n",
       "      <th>12</th>\n",
       "      <td>International Reputation</td>\n",
       "      <td>rating on scale of 5</td>\n",
       "    </tr>\n",
       "    <tr>\n",
       "      <th>13</th>\n",
       "      <td>Weak Foot</td>\n",
       "      <td>rating on scale of 5</td>\n",
       "    </tr>\n",
       "    <tr>\n",
       "      <th>14</th>\n",
       "      <td>Skill Moves</td>\n",
       "      <td>rating on scale of 5</td>\n",
       "    </tr>\n",
       "    <tr>\n",
       "      <th>15</th>\n",
       "      <td>Work Rate</td>\n",
       "      <td>attack work rate/defence work rate</td>\n",
       "    </tr>\n",
       "    <tr>\n",
       "      <th>16</th>\n",
       "      <td>Body Type</td>\n",
       "      <td>body type of player</td>\n",
       "    </tr>\n",
       "    <tr>\n",
       "      <th>17</th>\n",
       "      <td>Position</td>\n",
       "      <td>position on the pitch</td>\n",
       "    </tr>\n",
       "    <tr>\n",
       "      <th>18</th>\n",
       "      <td>Jersey Number</td>\n",
       "      <td>jersey number</td>\n",
       "    </tr>\n",
       "    <tr>\n",
       "      <th>19</th>\n",
       "      <td>Joined</td>\n",
       "      <td>joined date</td>\n",
       "    </tr>\n",
       "    <tr>\n",
       "      <th>20</th>\n",
       "      <td>Loaned From</td>\n",
       "      <td>club name if applicable</td>\n",
       "    </tr>\n",
       "    <tr>\n",
       "      <th>21</th>\n",
       "      <td>Contract Valid Until</td>\n",
       "      <td>contract end date</td>\n",
       "    </tr>\n",
       "    <tr>\n",
       "      <th>22</th>\n",
       "      <td>Height</td>\n",
       "      <td>height of the player</td>\n",
       "    </tr>\n",
       "    <tr>\n",
       "      <th>23</th>\n",
       "      <td>Weight</td>\n",
       "      <td>weight of the player</td>\n",
       "    </tr>\n",
       "    <tr>\n",
       "      <th>24</th>\n",
       "      <td>Crossing</td>\n",
       "      <td>rating on scale of 100</td>\n",
       "    </tr>\n",
       "    <tr>\n",
       "      <th>25</th>\n",
       "      <td>Finishing</td>\n",
       "      <td>rating on scale of 100</td>\n",
       "    </tr>\n",
       "    <tr>\n",
       "      <th>26</th>\n",
       "      <td>HeadingAccuracy</td>\n",
       "      <td>rating on scale of 100</td>\n",
       "    </tr>\n",
       "    <tr>\n",
       "      <th>27</th>\n",
       "      <td>ShortPassing</td>\n",
       "      <td>rating on scale of 100</td>\n",
       "    </tr>\n",
       "    <tr>\n",
       "      <th>28</th>\n",
       "      <td>Volleys</td>\n",
       "      <td>rating on scale of 100</td>\n",
       "    </tr>\n",
       "    <tr>\n",
       "      <th>29</th>\n",
       "      <td>Dribbling</td>\n",
       "      <td>rating on scale of 100</td>\n",
       "    </tr>\n",
       "    <tr>\n",
       "      <th>30</th>\n",
       "      <td>Curve</td>\n",
       "      <td>rating on scale of 100</td>\n",
       "    </tr>\n",
       "    <tr>\n",
       "      <th>31</th>\n",
       "      <td>FKAccuracy</td>\n",
       "      <td>rating on scale of 100</td>\n",
       "    </tr>\n",
       "    <tr>\n",
       "      <th>32</th>\n",
       "      <td>LongPassing</td>\n",
       "      <td>rating on scale of 100</td>\n",
       "    </tr>\n",
       "    <tr>\n",
       "      <th>33</th>\n",
       "      <td>BallControl</td>\n",
       "      <td>rating on scale of 100</td>\n",
       "    </tr>\n",
       "    <tr>\n",
       "      <th>34</th>\n",
       "      <td>Acceleration</td>\n",
       "      <td>rating on scale of 100</td>\n",
       "    </tr>\n",
       "    <tr>\n",
       "      <th>35</th>\n",
       "      <td>SprintSpeed</td>\n",
       "      <td>rating on scale of 100</td>\n",
       "    </tr>\n",
       "    <tr>\n",
       "      <th>36</th>\n",
       "      <td>Agility</td>\n",
       "      <td>rating on scale of 100</td>\n",
       "    </tr>\n",
       "    <tr>\n",
       "      <th>37</th>\n",
       "      <td>Reactions</td>\n",
       "      <td>rating on scale of 100\\</td>\n",
       "    </tr>\n",
       "    <tr>\n",
       "      <th>38</th>\n",
       "      <td>Balance</td>\n",
       "      <td>rating on scale of 100</td>\n",
       "    </tr>\n",
       "    <tr>\n",
       "      <th>39</th>\n",
       "      <td>ShotPower</td>\n",
       "      <td>rating on scale of 100</td>\n",
       "    </tr>\n",
       "    <tr>\n",
       "      <th>40</th>\n",
       "      <td>Jumping</td>\n",
       "      <td>rating on scale of 100</td>\n",
       "    </tr>\n",
       "    <tr>\n",
       "      <th>41</th>\n",
       "      <td>Stamina</td>\n",
       "      <td>rating on scale of 100</td>\n",
       "    </tr>\n",
       "    <tr>\n",
       "      <th>42</th>\n",
       "      <td>Strength</td>\n",
       "      <td>rating on scale of 100</td>\n",
       "    </tr>\n",
       "    <tr>\n",
       "      <th>43</th>\n",
       "      <td>LongShots</td>\n",
       "      <td>rating on scale of 100</td>\n",
       "    </tr>\n",
       "    <tr>\n",
       "      <th>44</th>\n",
       "      <td>Aggression</td>\n",
       "      <td>rating on scale of 100</td>\n",
       "    </tr>\n",
       "    <tr>\n",
       "      <th>45</th>\n",
       "      <td>Interceptions</td>\n",
       "      <td>rating on scale of 100</td>\n",
       "    </tr>\n",
       "    <tr>\n",
       "      <th>46</th>\n",
       "      <td>Positioning</td>\n",
       "      <td>rating on scale of 100</td>\n",
       "    </tr>\n",
       "    <tr>\n",
       "      <th>47</th>\n",
       "      <td>Vision</td>\n",
       "      <td>rating on scale of 100</td>\n",
       "    </tr>\n",
       "    <tr>\n",
       "      <th>48</th>\n",
       "      <td>Penalties</td>\n",
       "      <td>rating on scale of 100</td>\n",
       "    </tr>\n",
       "    <tr>\n",
       "      <th>49</th>\n",
       "      <td>Composure</td>\n",
       "      <td>rating on scale of 100</td>\n",
       "    </tr>\n",
       "    <tr>\n",
       "      <th>50</th>\n",
       "      <td>Marking</td>\n",
       "      <td>rating on scale of 100</td>\n",
       "    </tr>\n",
       "    <tr>\n",
       "      <th>51</th>\n",
       "      <td>StandingTackle</td>\n",
       "      <td>rating on scale of 100</td>\n",
       "    </tr>\n",
       "    <tr>\n",
       "      <th>52</th>\n",
       "      <td>SlidingTackle</td>\n",
       "      <td>rating on scale of 100</td>\n",
       "    </tr>\n",
       "    <tr>\n",
       "      <th>53</th>\n",
       "      <td>GKDiving</td>\n",
       "      <td>rating on scale of 100</td>\n",
       "    </tr>\n",
       "    <tr>\n",
       "      <th>54</th>\n",
       "      <td>GKHandling</td>\n",
       "      <td>rating on scale of 100</td>\n",
       "    </tr>\n",
       "    <tr>\n",
       "      <th>55</th>\n",
       "      <td>GKKicking</td>\n",
       "      <td>rating on scale of 100</td>\n",
       "    </tr>\n",
       "    <tr>\n",
       "      <th>56</th>\n",
       "      <td>GKPositioning</td>\n",
       "      <td>rating on scale of 100</td>\n",
       "    </tr>\n",
       "    <tr>\n",
       "      <th>57</th>\n",
       "      <td>GKReflexes</td>\n",
       "      <td>rating on scale of 100</td>\n",
       "    </tr>\n",
       "    <tr>\n",
       "      <th>58</th>\n",
       "      <td>Release Clause</td>\n",
       "      <td>release clause value</td>\n",
       "    </tr>\n",
       "  </tbody>\n",
       "</table>\n",
       "</div>"
      ],
      "text/plain": [
       "                          ID          unique id for every player\n",
       "0                       Name                                name\n",
       "1                        Age                                 age\n",
       "2                      Photo           url to the player's photo\n",
       "3                Nationality                         nationality\n",
       "4                       Flag       url to players's country flag\n",
       "5                    Overall                      overall rating\n",
       "6                  Potential                    potential rating\n",
       "7                       Club                        current club\n",
       "8                  Club Logo                    url to club logo\n",
       "9                      Value                current market value\n",
       "10                      Wage                        current wage\n",
       "11            Preferred Foot                          left/right\n",
       "12  International Reputation                rating on scale of 5\n",
       "13                 Weak Foot                rating on scale of 5\n",
       "14               Skill Moves                rating on scale of 5\n",
       "15                 Work Rate  attack work rate/defence work rate\n",
       "16                 Body Type                 body type of player\n",
       "17                  Position               position on the pitch\n",
       "18             Jersey Number                       jersey number\n",
       "19                    Joined                         joined date\n",
       "20               Loaned From             club name if applicable\n",
       "21      Contract Valid Until                   contract end date\n",
       "22                    Height                height of the player\n",
       "23                    Weight                weight of the player\n",
       "24                  Crossing              rating on scale of 100\n",
       "25                 Finishing              rating on scale of 100\n",
       "26           HeadingAccuracy              rating on scale of 100\n",
       "27              ShortPassing              rating on scale of 100\n",
       "28                   Volleys              rating on scale of 100\n",
       "29                 Dribbling              rating on scale of 100\n",
       "30                     Curve              rating on scale of 100\n",
       "31                FKAccuracy              rating on scale of 100\n",
       "32               LongPassing              rating on scale of 100\n",
       "33               BallControl              rating on scale of 100\n",
       "34              Acceleration              rating on scale of 100\n",
       "35               SprintSpeed              rating on scale of 100\n",
       "36                   Agility              rating on scale of 100\n",
       "37                 Reactions             rating on scale of 100\\\n",
       "38                   Balance              rating on scale of 100\n",
       "39                 ShotPower              rating on scale of 100\n",
       "40                   Jumping              rating on scale of 100\n",
       "41                   Stamina              rating on scale of 100\n",
       "42                  Strength              rating on scale of 100\n",
       "43                 LongShots              rating on scale of 100\n",
       "44                Aggression              rating on scale of 100\n",
       "45             Interceptions              rating on scale of 100\n",
       "46               Positioning              rating on scale of 100\n",
       "47                    Vision              rating on scale of 100\n",
       "48                 Penalties              rating on scale of 100\n",
       "49                 Composure              rating on scale of 100\n",
       "50                   Marking              rating on scale of 100\n",
       "51            StandingTackle              rating on scale of 100\n",
       "52             SlidingTackle              rating on scale of 100\n",
       "53                  GKDiving              rating on scale of 100\n",
       "54                GKHandling              rating on scale of 100\n",
       "55                 GKKicking              rating on scale of 100\n",
       "56             GKPositioning              rating on scale of 100\n",
       "57                GKReflexes              rating on scale of 100\n",
       "58            Release Clause                release clause value"
      ]
     },
     "execution_count": 33,
     "metadata": {},
     "output_type": "execute_result"
    }
   ],
   "source": [
    "df_col"
   ]
  },
  {
   "cell_type": "markdown",
   "metadata": {},
   "source": [
    "### 2.\tDrop any columns that you deem unecessary for analysis.\n"
   ]
  },
  {
   "cell_type": "code",
   "execution_count": 34,
   "metadata": {},
   "outputs": [
    {
     "name": "stdout",
     "output_type": "stream",
     "text": [
      "<class 'pandas.core.frame.DataFrame'>\n",
      "RangeIndex: 18207 entries, 0 to 18206\n",
      "Data columns (total 60 columns):\n",
      " #   Column                    Non-Null Count  Dtype  \n",
      "---  ------                    --------------  -----  \n",
      " 0   ID                        18207 non-null  int64  \n",
      " 1   Name                      18207 non-null  object \n",
      " 2   Age                       18207 non-null  int64  \n",
      " 3   Photo                     18207 non-null  object \n",
      " 4   Nationality               18207 non-null  object \n",
      " 5   Flag                      18207 non-null  object \n",
      " 6   Overall                   18207 non-null  int64  \n",
      " 7   Potential                 18207 non-null  int64  \n",
      " 8   Club                      17966 non-null  object \n",
      " 9   Club Logo                 18207 non-null  object \n",
      " 10  Value                     18207 non-null  object \n",
      " 11  Wage                      18207 non-null  object \n",
      " 12  Preferred Foot            18159 non-null  object \n",
      " 13  International Reputation  18159 non-null  float64\n",
      " 14  Weak Foot                 18159 non-null  float64\n",
      " 15  Skill Moves               18159 non-null  float64\n",
      " 16  Work Rate                 18159 non-null  object \n",
      " 17  Body Type                 18159 non-null  object \n",
      " 18  Position                  18147 non-null  object \n",
      " 19  Jersey Number             18147 non-null  float64\n",
      " 20  Joined                    16654 non-null  object \n",
      " 21  Loaned From               1264 non-null   object \n",
      " 22  Contract Valid Until      17918 non-null  object \n",
      " 23  Height                    18159 non-null  object \n",
      " 24  Weight                    18159 non-null  object \n",
      " 25  Crossing                  18159 non-null  float64\n",
      " 26  Finishing                 18159 non-null  float64\n",
      " 27  HeadingAccuracy           18159 non-null  float64\n",
      " 28  ShortPassing              18159 non-null  float64\n",
      " 29  Volleys                   18159 non-null  float64\n",
      " 30  Dribbling                 18159 non-null  float64\n",
      " 31  Curve                     18159 non-null  float64\n",
      " 32  FKAccuracy                18159 non-null  float64\n",
      " 33  LongPassing               18159 non-null  float64\n",
      " 34  BallControl               18159 non-null  float64\n",
      " 35  Acceleration              18159 non-null  float64\n",
      " 36  SprintSpeed               18159 non-null  float64\n",
      " 37  Agility                   18159 non-null  float64\n",
      " 38  Reactions                 18159 non-null  float64\n",
      " 39  Balance                   18159 non-null  float64\n",
      " 40  ShotPower                 18159 non-null  float64\n",
      " 41  Jumping                   18159 non-null  float64\n",
      " 42  Stamina                   18159 non-null  float64\n",
      " 43  Strength                  18159 non-null  float64\n",
      " 44  LongShots                 18159 non-null  float64\n",
      " 45  Aggression                18159 non-null  float64\n",
      " 46  Interceptions             18159 non-null  float64\n",
      " 47  Positioning               18159 non-null  float64\n",
      " 48  Vision                    18159 non-null  float64\n",
      " 49  Penalties                 18159 non-null  float64\n",
      " 50  Composure                 18159 non-null  float64\n",
      " 51  Marking                   18159 non-null  float64\n",
      " 52  StandingTackle            18159 non-null  float64\n",
      " 53  SlidingTackle             18159 non-null  float64\n",
      " 54  GKDiving                  18159 non-null  float64\n",
      " 55  GKHandling                18159 non-null  float64\n",
      " 56  GKKicking                 18159 non-null  float64\n",
      " 57  GKPositioning             18159 non-null  float64\n",
      " 58  GKReflexes                18159 non-null  float64\n",
      " 59  Release Clause            16643 non-null  object \n",
      "dtypes: float64(38), int64(4), object(18)\n",
      "memory usage: 8.3+ MB\n"
     ]
    }
   ],
   "source": [
    "df.info()"
   ]
  },
  {
   "cell_type": "code",
   "execution_count": 35,
   "metadata": {},
   "outputs": [
    {
     "data": {
      "text/plain": [
       "ID                           0.00\n",
       "Name                         0.00\n",
       "Age                          0.00\n",
       "Photo                        0.00\n",
       "Nationality                  0.00\n",
       "Flag                         0.00\n",
       "Overall                      0.00\n",
       "Potential                    0.00\n",
       "Club                         1.32\n",
       "Club Logo                    0.00\n",
       "Value                        0.00\n",
       "Wage                         0.00\n",
       "Preferred Foot               0.26\n",
       "International Reputation     0.26\n",
       "Weak Foot                    0.26\n",
       "Skill Moves                  0.26\n",
       "Work Rate                    0.26\n",
       "Body Type                    0.26\n",
       "Position                     0.33\n",
       "Jersey Number                0.33\n",
       "Joined                       8.53\n",
       "Loaned From                 93.06\n",
       "Contract Valid Until         1.59\n",
       "Height                       0.26\n",
       "Weight                       0.26\n",
       "Crossing                     0.26\n",
       "Finishing                    0.26\n",
       "HeadingAccuracy              0.26\n",
       "ShortPassing                 0.26\n",
       "Volleys                      0.26\n",
       "Dribbling                    0.26\n",
       "Curve                        0.26\n",
       "FKAccuracy                   0.26\n",
       "LongPassing                  0.26\n",
       "BallControl                  0.26\n",
       "Acceleration                 0.26\n",
       "SprintSpeed                  0.26\n",
       "Agility                      0.26\n",
       "Reactions                    0.26\n",
       "Balance                      0.26\n",
       "ShotPower                    0.26\n",
       "Jumping                      0.26\n",
       "Stamina                      0.26\n",
       "Strength                     0.26\n",
       "LongShots                    0.26\n",
       "Aggression                   0.26\n",
       "Interceptions                0.26\n",
       "Positioning                  0.26\n",
       "Vision                       0.26\n",
       "Penalties                    0.26\n",
       "Composure                    0.26\n",
       "Marking                      0.26\n",
       "StandingTackle               0.26\n",
       "SlidingTackle                0.26\n",
       "GKDiving                     0.26\n",
       "GKHandling                   0.26\n",
       "GKKicking                    0.26\n",
       "GKPositioning                0.26\n",
       "GKReflexes                   0.26\n",
       "Release Clause               8.59\n",
       "dtype: float64"
      ]
     },
     "execution_count": 35,
     "metadata": {},
     "output_type": "execute_result"
    }
   ],
   "source": [
    "round((df.isnull().sum()/len(df))*100,2)"
   ]
  },
  {
   "cell_type": "markdown",
   "metadata": {},
   "source": [
    "Loaned From has 93% missing values, so we can drop that column "
   ]
  },
  {
   "cell_type": "markdown",
   "metadata": {},
   "source": [
    "Also,we can drop photo,flag and club logo as they are urls and have nothing to do with analysis"
   ]
  },
  {
   "cell_type": "code",
   "execution_count": 36,
   "metadata": {},
   "outputs": [],
   "source": [
    "df=df.drop(['Photo','Flag','Club Logo','Loaned From'],axis=1)\n"
   ]
  },
  {
   "cell_type": "code",
   "execution_count": 37,
   "metadata": {
    "scrolled": true
   },
   "outputs": [
    {
     "data": {
      "text/html": [
       "<div>\n",
       "<style scoped>\n",
       "    .dataframe tbody tr th:only-of-type {\n",
       "        vertical-align: middle;\n",
       "    }\n",
       "\n",
       "    .dataframe tbody tr th {\n",
       "        vertical-align: top;\n",
       "    }\n",
       "\n",
       "    .dataframe thead th {\n",
       "        text-align: right;\n",
       "    }\n",
       "</style>\n",
       "<table border=\"1\" class=\"dataframe\">\n",
       "  <thead>\n",
       "    <tr style=\"text-align: right;\">\n",
       "      <th></th>\n",
       "      <th>ID</th>\n",
       "      <th>Name</th>\n",
       "      <th>Age</th>\n",
       "      <th>Nationality</th>\n",
       "      <th>Overall</th>\n",
       "      <th>Potential</th>\n",
       "      <th>Club</th>\n",
       "      <th>Value</th>\n",
       "      <th>Wage</th>\n",
       "      <th>Preferred Foot</th>\n",
       "      <th>...</th>\n",
       "      <th>Composure</th>\n",
       "      <th>Marking</th>\n",
       "      <th>StandingTackle</th>\n",
       "      <th>SlidingTackle</th>\n",
       "      <th>GKDiving</th>\n",
       "      <th>GKHandling</th>\n",
       "      <th>GKKicking</th>\n",
       "      <th>GKPositioning</th>\n",
       "      <th>GKReflexes</th>\n",
       "      <th>Release Clause</th>\n",
       "    </tr>\n",
       "  </thead>\n",
       "  <tbody>\n",
       "    <tr>\n",
       "      <th>0</th>\n",
       "      <td>244274</td>\n",
       "      <td>A. Šemper</td>\n",
       "      <td>20</td>\n",
       "      <td>Croatia</td>\n",
       "      <td>67</td>\n",
       "      <td>80</td>\n",
       "      <td>Chievo Verona</td>\n",
       "      <td>€1.2M</td>\n",
       "      <td>€3K</td>\n",
       "      <td>Right</td>\n",
       "      <td>...</td>\n",
       "      <td>21.0</td>\n",
       "      <td>13.0</td>\n",
       "      <td>12.0</td>\n",
       "      <td>15.0</td>\n",
       "      <td>71.0</td>\n",
       "      <td>63.0</td>\n",
       "      <td>61.0</td>\n",
       "      <td>68.0</td>\n",
       "      <td>65.0</td>\n",
       "      <td>€2.8M</td>\n",
       "    </tr>\n",
       "    <tr>\n",
       "      <th>1</th>\n",
       "      <td>231786</td>\n",
       "      <td>A. Šporar</td>\n",
       "      <td>24</td>\n",
       "      <td>Slovenia</td>\n",
       "      <td>69</td>\n",
       "      <td>76</td>\n",
       "      <td>NaN</td>\n",
       "      <td>€0</td>\n",
       "      <td>€0</td>\n",
       "      <td>Right</td>\n",
       "      <td>...</td>\n",
       "      <td>68.0</td>\n",
       "      <td>15.0</td>\n",
       "      <td>11.0</td>\n",
       "      <td>18.0</td>\n",
       "      <td>9.0</td>\n",
       "      <td>12.0</td>\n",
       "      <td>7.0</td>\n",
       "      <td>8.0</td>\n",
       "      <td>7.0</td>\n",
       "      <td>NaN</td>\n",
       "    </tr>\n",
       "    <tr>\n",
       "      <th>2</th>\n",
       "      <td>186508</td>\n",
       "      <td>A. Østbø</td>\n",
       "      <td>27</td>\n",
       "      <td>Norway</td>\n",
       "      <td>65</td>\n",
       "      <td>69</td>\n",
       "      <td>Rosenborg BK</td>\n",
       "      <td>€475K</td>\n",
       "      <td>€2K</td>\n",
       "      <td>Right</td>\n",
       "      <td>...</td>\n",
       "      <td>46.0</td>\n",
       "      <td>23.0</td>\n",
       "      <td>14.0</td>\n",
       "      <td>10.0</td>\n",
       "      <td>63.0</td>\n",
       "      <td>64.0</td>\n",
       "      <td>62.0</td>\n",
       "      <td>61.0</td>\n",
       "      <td>67.0</td>\n",
       "      <td>€653K</td>\n",
       "    </tr>\n",
       "    <tr>\n",
       "      <th>3</th>\n",
       "      <td>246257</td>\n",
       "      <td>A. Ćatić</td>\n",
       "      <td>19</td>\n",
       "      <td>Bosnia Herzegovina</td>\n",
       "      <td>60</td>\n",
       "      <td>75</td>\n",
       "      <td>PSV</td>\n",
       "      <td>€450K</td>\n",
       "      <td>€1K</td>\n",
       "      <td>Right</td>\n",
       "      <td>...</td>\n",
       "      <td>52.0</td>\n",
       "      <td>28.0</td>\n",
       "      <td>29.0</td>\n",
       "      <td>30.0</td>\n",
       "      <td>7.0</td>\n",
       "      <td>8.0</td>\n",
       "      <td>7.0</td>\n",
       "      <td>13.0</td>\n",
       "      <td>12.0</td>\n",
       "      <td>€911K</td>\n",
       "    </tr>\n",
       "    <tr>\n",
       "      <th>4</th>\n",
       "      <td>229594</td>\n",
       "      <td>A. Ćorić</td>\n",
       "      <td>21</td>\n",
       "      <td>Croatia</td>\n",
       "      <td>76</td>\n",
       "      <td>88</td>\n",
       "      <td>Roma</td>\n",
       "      <td>€14M</td>\n",
       "      <td>€38K</td>\n",
       "      <td>Right</td>\n",
       "      <td>...</td>\n",
       "      <td>78.0</td>\n",
       "      <td>44.0</td>\n",
       "      <td>31.0</td>\n",
       "      <td>24.0</td>\n",
       "      <td>15.0</td>\n",
       "      <td>10.0</td>\n",
       "      <td>14.0</td>\n",
       "      <td>14.0</td>\n",
       "      <td>7.0</td>\n",
       "      <td>€26.6M</td>\n",
       "    </tr>\n",
       "  </tbody>\n",
       "</table>\n",
       "<p>5 rows × 56 columns</p>\n",
       "</div>"
      ],
      "text/plain": [
       "       ID       Name  Age         Nationality  Overall  Potential  \\\n",
       "0  244274  A. Šemper   20             Croatia       67         80   \n",
       "1  231786  A. Šporar   24            Slovenia       69         76   \n",
       "2  186508   A. Østbø   27              Norway       65         69   \n",
       "3  246257   A. Ćatić   19  Bosnia Herzegovina       60         75   \n",
       "4  229594   A. Ćorić   21             Croatia       76         88   \n",
       "\n",
       "            Club    Value  Wage Preferred Foot  ...  Composure  Marking  \\\n",
       "0  Chievo Verona   €1.2M    €3K          Right  ...       21.0     13.0   \n",
       "1            NaN      €0     €0          Right  ...       68.0     15.0   \n",
       "2   Rosenborg BK   €475K    €2K          Right  ...       46.0     23.0   \n",
       "3            PSV   €450K    €1K          Right  ...       52.0     28.0   \n",
       "4           Roma    €14M   €38K          Right  ...       78.0     44.0   \n",
       "\n",
       "   StandingTackle SlidingTackle GKDiving GKHandling  GKKicking GKPositioning  \\\n",
       "0            12.0          15.0     71.0       63.0       61.0          68.0   \n",
       "1            11.0          18.0      9.0       12.0        7.0           8.0   \n",
       "2            14.0          10.0     63.0       64.0       62.0          61.0   \n",
       "3            29.0          30.0      7.0        8.0        7.0          13.0   \n",
       "4            31.0          24.0     15.0       10.0       14.0          14.0   \n",
       "\n",
       "  GKReflexes Release Clause  \n",
       "0       65.0          €2.8M  \n",
       "1        7.0            NaN  \n",
       "2       67.0          €653K  \n",
       "3       12.0          €911K  \n",
       "4        7.0         €26.6M  \n",
       "\n",
       "[5 rows x 56 columns]"
      ]
     },
     "execution_count": 37,
     "metadata": {},
     "output_type": "execute_result"
    }
   ],
   "source": [
    "df.head()"
   ]
  },
  {
   "cell_type": "raw",
   "metadata": {},
   "source": [
    "Column\tDetails\tRequired output\n",
    "'Value'\tAmount with Euro symbol as prefix and suffix ‘K’ or ‘M’ indicating thousands and millions respectively.\tConvert to Float after getting rid of currency symbol and suffix.\n",
    "'Wage'\t Amount with Euro symbol as prefix and suffix ‘K’ or ‘M’ indicating thousands and millions respectively.\tConvert to Float after getting rid of currency symbol and suffix.\n",
    "'Joined'\tYear as a string, in some cases complete date as string\tConvert to int with only year\n",
    "'Contract Valid Until'\tDate as a string \tConvert to datetime type\n",
    "'Height'\tIn inches with a quotation mark \tConvert to Float with decimal points\n",
    "'Weight'\tContains the suffix lbs \tRemove the suffix and convert to float\n",
    "'Release Clause'\tAmount with Euro symbol as prefix and suffix ‘K’ or ‘M’ indicating thousands and millions respectively.\tConvert to Float after getting rid of currency symbol and suffix.\n"
   ]
  },
  {
   "cell_type": "code",
   "execution_count": 38,
   "metadata": {},
   "outputs": [
    {
     "data": {
      "text/plain": [
       "0         €1.2M \n",
       "1            €0 \n",
       "2         €475K \n",
       "3         €450K \n",
       "4          €14M \n",
       "          ...   \n",
       "18202      €50K \n",
       "18203     €650K \n",
       "18204       €8M \n",
       "18205     €850K \n",
       "18206     €120K \n",
       "Name: Value, Length: 18207, dtype: object"
      ]
     },
     "execution_count": 38,
     "metadata": {},
     "output_type": "execute_result"
    }
   ],
   "source": [
    "df['Value']"
   ]
  },
  {
   "cell_type": "code",
   "execution_count": 43,
   "metadata": {},
   "outputs": [],
   "source": [
    "df['Value']=df['Value'].str.replace('€','')"
   ]
  },
  {
   "cell_type": "code",
   "execution_count": 44,
   "metadata": {},
   "outputs": [
    {
     "data": {
      "text/plain": [
       "0         1.2M \n",
       "1            0 \n",
       "2         475K \n",
       "3         450K \n",
       "4          14M \n",
       "          ...  \n",
       "18202      50K \n",
       "18203     650K \n",
       "18204       8M \n",
       "18205     850K \n",
       "18206     120K \n",
       "Name: Value, Length: 18207, dtype: object"
      ]
     },
     "execution_count": 44,
     "metadata": {},
     "output_type": "execute_result"
    }
   ],
   "source": [
    "df['Value']"
   ]
  },
  {
   "cell_type": "code",
   "execution_count": 55,
   "metadata": {},
   "outputs": [],
   "source": [
    "df['Value']=df.Value.replace({'K':'*1e3','M':'*1e6'},regex=True).map(pd.eval).astype(int)"
   ]
  },
  {
   "cell_type": "code",
   "execution_count": 56,
   "metadata": {},
   "outputs": [
    {
     "data": {
      "text/plain": [
       "0         1200000\n",
       "1               0\n",
       "2          475000\n",
       "3          450000\n",
       "4        14000000\n",
       "           ...   \n",
       "18202       50000\n",
       "18203      650000\n",
       "18204     8000000\n",
       "18205      850000\n",
       "18206      120000\n",
       "Name: Value, Length: 18207, dtype: int32"
      ]
     },
     "execution_count": 56,
     "metadata": {},
     "output_type": "execute_result"
    }
   ],
   "source": [
    "df['Value']"
   ]
  },
  {
   "cell_type": "code",
   "execution_count": 57,
   "metadata": {},
   "outputs": [
    {
     "data": {
      "text/plain": [
       "0         €3K\n",
       "1          €0\n",
       "2         €2K\n",
       "3         €1K\n",
       "4        €38K\n",
       "         ... \n",
       "18202     €2K\n",
       "18203     €7K\n",
       "18204    €17K\n",
       "18205     €4K\n",
       "18206     €1K\n",
       "Name: Wage, Length: 18207, dtype: object"
      ]
     },
     "execution_count": 57,
     "metadata": {},
     "output_type": "execute_result"
    }
   ],
   "source": [
    "df['Wage']"
   ]
  },
  {
   "cell_type": "code",
   "execution_count": 59,
   "metadata": {},
   "outputs": [],
   "source": [
    "df['Wage']=df['Wage'].str.replace('€','')\n",
    "df['Wage']=df['Wage'].replace({'K':'*1e3'},regex=True).map(pd.eval).astype(int)"
   ]
  },
  {
   "cell_type": "code",
   "execution_count": 60,
   "metadata": {},
   "outputs": [
    {
     "data": {
      "text/plain": [
       "0         3000\n",
       "1            0\n",
       "2         2000\n",
       "3         1000\n",
       "4        38000\n",
       "         ...  \n",
       "18202     2000\n",
       "18203     7000\n",
       "18204    17000\n",
       "18205     4000\n",
       "18206     1000\n",
       "Name: Wage, Length: 18207, dtype: int32"
      ]
     },
     "execution_count": 60,
     "metadata": {},
     "output_type": "execute_result"
    }
   ],
   "source": [
    "df['Wage']"
   ]
  },
  {
   "cell_type": "code",
   "execution_count": 58,
   "metadata": {},
   "outputs": [
    {
     "data": {
      "text/plain": [
       "0         Jul 1, 2016\n",
       "1                 NaN\n",
       "2         Jan 9, 2017\n",
       "3        May 30, 2018\n",
       "4         Jul 1, 2018\n",
       "             ...     \n",
       "18202    Feb 26, 2018\n",
       "18203    Dec 24, 2014\n",
       "18204     Jul 1, 2015\n",
       "18205     Jul 1, 2017\n",
       "18206     Jan 1, 2016\n",
       "Name: Joined, Length: 18207, dtype: object"
      ]
     },
     "execution_count": 58,
     "metadata": {},
     "output_type": "execute_result"
    }
   ],
   "source": [
    "df['Joined']"
   ]
  },
  {
   "cell_type": "code",
   "execution_count": 61,
   "metadata": {},
   "outputs": [],
   "source": [
    "df['Joined']=pd.to_datetime(df['Joined'])"
   ]
  },
  {
   "cell_type": "code",
   "execution_count": 62,
   "metadata": {},
   "outputs": [],
   "source": [
    "import datetime as dt"
   ]
  },
  {
   "cell_type": "code",
   "execution_count": 63,
   "metadata": {},
   "outputs": [],
   "source": [
    "df['Joined']=df['Joined'].dt.year"
   ]
  },
  {
   "cell_type": "code",
   "execution_count": 64,
   "metadata": {},
   "outputs": [
    {
     "data": {
      "text/plain": [
       "0        2016.0\n",
       "1           NaN\n",
       "2        2017.0\n",
       "3        2018.0\n",
       "4        2018.0\n",
       "          ...  \n",
       "18202    2018.0\n",
       "18203    2014.0\n",
       "18204    2015.0\n",
       "18205    2017.0\n",
       "18206    2016.0\n",
       "Name: Joined, Length: 18207, dtype: float64"
      ]
     },
     "execution_count": 64,
     "metadata": {},
     "output_type": "execute_result"
    }
   ],
   "source": [
    "df['Joined']"
   ]
  },
  {
   "cell_type": "code",
   "execution_count": 65,
   "metadata": {},
   "outputs": [],
   "source": [
    "df['Contract Valid Until']=pd.to_datetime(df['Contract Valid Until'])"
   ]
  },
  {
   "cell_type": "code",
   "execution_count": 66,
   "metadata": {},
   "outputs": [
    {
     "data": {
      "text/plain": [
       "0       2022-01-01\n",
       "1              NaT\n",
       "2       2019-01-01\n",
       "3       2020-01-01\n",
       "4       2023-01-01\n",
       "           ...    \n",
       "18202   2020-01-01\n",
       "18203   2019-01-01\n",
       "18204   2024-01-01\n",
       "18205   2021-01-01\n",
       "18206   2021-01-01\n",
       "Name: Contract Valid Until, Length: 18207, dtype: datetime64[ns]"
      ]
     },
     "execution_count": 66,
     "metadata": {},
     "output_type": "execute_result"
    }
   ],
   "source": [
    "df['Contract Valid Until']"
   ]
  },
  {
   "cell_type": "code",
   "execution_count": 67,
   "metadata": {},
   "outputs": [],
   "source": [
    "df['Height']=df['Height'].str.replace(\"'\",\".\")"
   ]
  },
  {
   "cell_type": "code",
   "execution_count": 68,
   "metadata": {},
   "outputs": [
    {
     "data": {
      "text/plain": [
       "0         6.4\n",
       "1         6.1\n",
       "2         6.0\n",
       "3        5.10\n",
       "4         5.9\n",
       "         ... \n",
       "18202    5.10\n",
       "18203    5.10\n",
       "18204    5.11\n",
       "18205     6.2\n",
       "18206    5.10\n",
       "Name: Height, Length: 18207, dtype: object"
      ]
     },
     "execution_count": 68,
     "metadata": {},
     "output_type": "execute_result"
    }
   ],
   "source": [
    "df['Height']"
   ]
  },
  {
   "cell_type": "code",
   "execution_count": 69,
   "metadata": {},
   "outputs": [],
   "source": [
    "df['Height']=pd.to_numeric(df['Height'],errors='coerce',downcast='float')"
   ]
  },
  {
   "cell_type": "code",
   "execution_count": 70,
   "metadata": {},
   "outputs": [
    {
     "data": {
      "text/plain": [
       "0        6.40\n",
       "1        6.10\n",
       "2        6.00\n",
       "3        5.10\n",
       "4        5.90\n",
       "         ... \n",
       "18202    5.10\n",
       "18203    5.10\n",
       "18204    5.11\n",
       "18205    6.20\n",
       "18206    5.10\n",
       "Name: Height, Length: 18207, dtype: float32"
      ]
     },
     "execution_count": 70,
     "metadata": {},
     "output_type": "execute_result"
    }
   ],
   "source": [
    "df['Height']"
   ]
  },
  {
   "cell_type": "code",
   "execution_count": 71,
   "metadata": {},
   "outputs": [],
   "source": [
    "df['Weight']=df['Weight'].str.replace('lbs','')"
   ]
  },
  {
   "cell_type": "code",
   "execution_count": 72,
   "metadata": {},
   "outputs": [],
   "source": [
    "df['Weight']=pd.to_numeric(df['Weight'],errors='coerce',downcast='float')"
   ]
  },
  {
   "cell_type": "code",
   "execution_count": 73,
   "metadata": {},
   "outputs": [
    {
     "data": {
      "text/plain": [
       "0        201.0\n",
       "1        181.0\n",
       "2        165.0\n",
       "3        172.0\n",
       "4        130.0\n",
       "         ...  \n",
       "18202    157.0\n",
       "18203    154.0\n",
       "18204    174.0\n",
       "18205    181.0\n",
       "18206    152.0\n",
       "Name: Weight, Length: 18207, dtype: float32"
      ]
     },
     "execution_count": 73,
     "metadata": {},
     "output_type": "execute_result"
    }
   ],
   "source": [
    "df['Weight']"
   ]
  },
  {
   "cell_type": "code",
   "execution_count": 85,
   "metadata": {},
   "outputs": [
    {
     "data": {
      "text/plain": [
       "0         2.8M\n",
       "1          NaN\n",
       "2         653K\n",
       "3         911K\n",
       "4        26.6M\n",
       "         ...  \n",
       "18202     118K\n",
       "18203     1.4M\n",
       "18204    18.4M\n",
       "18205       2M\n",
       "18206     282K\n",
       "Name: Release Clause, Length: 18207, dtype: object"
      ]
     },
     "execution_count": 85,
     "metadata": {},
     "output_type": "execute_result"
    }
   ],
   "source": [
    "df['Release Clause']"
   ]
  },
  {
   "cell_type": "code",
   "execution_count": null,
   "metadata": {},
   "outputs": [],
   "source": []
  },
  {
   "cell_type": "code",
   "execution_count": 84,
   "metadata": {},
   "outputs": [],
   "source": [
    "df['Release Clause']=df['Release Clause'].str.replace('€','')\n"
   ]
  },
  {
   "cell_type": "code",
   "execution_count": 74,
   "metadata": {},
   "outputs": [],
   "source": [
    "df['Release Clause']=df['Release Clause'].str.replace('€','')"
   ]
  },
  {
   "cell_type": "code",
   "execution_count": 46,
   "metadata": {},
   "outputs": [],
   "source": [
    "df['Release Clause']=df['Release Clause'].str.replace('K','000')"
   ]
  },
  {
   "cell_type": "code",
   "execution_count": 47,
   "metadata": {},
   "outputs": [],
   "source": [
    "df['Release Clause']=df['Release Clause'].str.replace('M','000000')"
   ]
  },
  {
   "cell_type": "code",
   "execution_count": 48,
   "metadata": {},
   "outputs": [],
   "source": [
    "df['Release Clause']=df['Release Clause'].str.replace('.1000000','100000')"
   ]
  },
  {
   "cell_type": "code",
   "execution_count": 49,
   "metadata": {},
   "outputs": [],
   "source": [
    "df['Release Clause']=df['Release Clause'].str.replace('.2000000','200000')"
   ]
  },
  {
   "cell_type": "code",
   "execution_count": 50,
   "metadata": {},
   "outputs": [],
   "source": [
    "df['Release Clause']=df['Release Clause'].str.replace('.3000000','300000')"
   ]
  },
  {
   "cell_type": "code",
   "execution_count": 51,
   "metadata": {},
   "outputs": [],
   "source": [
    "df['Release Clause']=df['Release Clause'].str.replace('.4000000','400000')"
   ]
  },
  {
   "cell_type": "code",
   "execution_count": 52,
   "metadata": {},
   "outputs": [],
   "source": [
    "df['Release Clause']=df['Release Clause'].str.replace('.5000000','500000')"
   ]
  },
  {
   "cell_type": "code",
   "execution_count": 53,
   "metadata": {},
   "outputs": [],
   "source": [
    "df['Release Clause']=df['Release Clause'].str.replace('.6000000','600000')"
   ]
  },
  {
   "cell_type": "code",
   "execution_count": 54,
   "metadata": {},
   "outputs": [],
   "source": [
    "df['Release Clause']=df['Release Clause'].str.replace('.7000000','700000')"
   ]
  },
  {
   "cell_type": "code",
   "execution_count": 55,
   "metadata": {},
   "outputs": [],
   "source": [
    "df['Release Clause']=df['Release Clause'].str.replace('.8000000','800000')"
   ]
  },
  {
   "cell_type": "code",
   "execution_count": 56,
   "metadata": {},
   "outputs": [],
   "source": [
    "df['Release Clause']=df['Release Clause'].str.replace('.9000000','900000')"
   ]
  },
  {
   "cell_type": "code",
   "execution_count": 57,
   "metadata": {},
   "outputs": [],
   "source": [
    "df['Release Clause']=pd.to_numeric(df['Release Clause'],errors='coerce',downcast='float')"
   ]
  },
  {
   "cell_type": "code",
   "execution_count": 58,
   "metadata": {
    "scrolled": true
   },
   "outputs": [
    {
     "name": "stdout",
     "output_type": "stream",
     "text": [
      "<class 'pandas.core.frame.DataFrame'>\n",
      "RangeIndex: 18207 entries, 0 to 18206\n",
      "Data columns (total 56 columns):\n",
      " #   Column                    Non-Null Count  Dtype         \n",
      "---  ------                    --------------  -----         \n",
      " 0   ID                        18207 non-null  int64         \n",
      " 1   Name                      18207 non-null  object        \n",
      " 2   Age                       18207 non-null  int64         \n",
      " 3   Nationality               18207 non-null  object        \n",
      " 4   Overall                   18207 non-null  int64         \n",
      " 5   Potential                 18207 non-null  int64         \n",
      " 6   Club                      17966 non-null  object        \n",
      " 7   Value                     18207 non-null  float64       \n",
      " 8   Wage                      18207 non-null  float32       \n",
      " 9   Preferred Foot            18159 non-null  object        \n",
      " 10  International Reputation  18159 non-null  float64       \n",
      " 11  Weak Foot                 18159 non-null  float64       \n",
      " 12  Skill Moves               18159 non-null  float64       \n",
      " 13  Work Rate                 18159 non-null  object        \n",
      " 14  Body Type                 18159 non-null  object        \n",
      " 15  Position                  18147 non-null  object        \n",
      " 16  Jersey Number             18147 non-null  float64       \n",
      " 17  Joined                    16654 non-null  float64       \n",
      " 18  Contract Valid Until      17918 non-null  datetime64[ns]\n",
      " 19  Height                    18159 non-null  float32       \n",
      " 20  Weight                    18159 non-null  float32       \n",
      " 21  Crossing                  18159 non-null  float64       \n",
      " 22  Finishing                 18159 non-null  float64       \n",
      " 23  HeadingAccuracy           18159 non-null  float64       \n",
      " 24  ShortPassing              18159 non-null  float64       \n",
      " 25  Volleys                   18159 non-null  float64       \n",
      " 26  Dribbling                 18159 non-null  float64       \n",
      " 27  Curve                     18159 non-null  float64       \n",
      " 28  FKAccuracy                18159 non-null  float64       \n",
      " 29  LongPassing               18159 non-null  float64       \n",
      " 30  BallControl               18159 non-null  float64       \n",
      " 31  Acceleration              18159 non-null  float64       \n",
      " 32  SprintSpeed               18159 non-null  float64       \n",
      " 33  Agility                   18159 non-null  float64       \n",
      " 34  Reactions                 18159 non-null  float64       \n",
      " 35  Balance                   18159 non-null  float64       \n",
      " 36  ShotPower                 18159 non-null  float64       \n",
      " 37  Jumping                   18159 non-null  float64       \n",
      " 38  Stamina                   18159 non-null  float64       \n",
      " 39  Strength                  18159 non-null  float64       \n",
      " 40  LongShots                 18159 non-null  float64       \n",
      " 41  Aggression                18159 non-null  float64       \n",
      " 42  Interceptions             18159 non-null  float64       \n",
      " 43  Positioning               18159 non-null  float64       \n",
      " 44  Vision                    18159 non-null  float64       \n",
      " 45  Penalties                 18159 non-null  float64       \n",
      " 46  Composure                 18159 non-null  float64       \n",
      " 47  Marking                   18159 non-null  float64       \n",
      " 48  StandingTackle            18159 non-null  float64       \n",
      " 49  SlidingTackle             18159 non-null  float64       \n",
      " 50  GKDiving                  18159 non-null  float64       \n",
      " 51  GKHandling                18159 non-null  float64       \n",
      " 52  GKKicking                 18159 non-null  float64       \n",
      " 53  GKPositioning             18159 non-null  float64       \n",
      " 54  GKReflexes                18159 non-null  float64       \n",
      " 55  Release Clause            16643 non-null  float32       \n",
      "dtypes: datetime64[ns](1), float32(4), float64(40), int64(4), object(7)\n",
      "memory usage: 7.5+ MB\n"
     ]
    }
   ],
   "source": [
    "df.info()"
   ]
  },
  {
   "cell_type": "markdown",
   "metadata": {},
   "source": [
    "### 4.\tCheck for missing values and do a mean imputation where necessary."
   ]
  },
  {
   "cell_type": "code",
   "execution_count": 59,
   "metadata": {
    "scrolled": true
   },
   "outputs": [
    {
     "data": {
      "text/plain": [
       "ID                          0.00\n",
       "Name                        0.00\n",
       "Age                         0.00\n",
       "Nationality                 0.00\n",
       "Overall                     0.00\n",
       "Potential                   0.00\n",
       "Club                        1.32\n",
       "Value                       0.00\n",
       "Wage                        0.00\n",
       "Preferred Foot              0.26\n",
       "International Reputation    0.26\n",
       "Weak Foot                   0.26\n",
       "Skill Moves                 0.26\n",
       "Work Rate                   0.26\n",
       "Body Type                   0.26\n",
       "Position                    0.33\n",
       "Jersey Number               0.33\n",
       "Joined                      8.53\n",
       "Contract Valid Until        1.59\n",
       "Height                      0.26\n",
       "Weight                      0.26\n",
       "Crossing                    0.26\n",
       "Finishing                   0.26\n",
       "HeadingAccuracy             0.26\n",
       "ShortPassing                0.26\n",
       "Volleys                     0.26\n",
       "Dribbling                   0.26\n",
       "Curve                       0.26\n",
       "FKAccuracy                  0.26\n",
       "LongPassing                 0.26\n",
       "BallControl                 0.26\n",
       "Acceleration                0.26\n",
       "SprintSpeed                 0.26\n",
       "Agility                     0.26\n",
       "Reactions                   0.26\n",
       "Balance                     0.26\n",
       "ShotPower                   0.26\n",
       "Jumping                     0.26\n",
       "Stamina                     0.26\n",
       "Strength                    0.26\n",
       "LongShots                   0.26\n",
       "Aggression                  0.26\n",
       "Interceptions               0.26\n",
       "Positioning                 0.26\n",
       "Vision                      0.26\n",
       "Penalties                   0.26\n",
       "Composure                   0.26\n",
       "Marking                     0.26\n",
       "StandingTackle              0.26\n",
       "SlidingTackle               0.26\n",
       "GKDiving                    0.26\n",
       "GKHandling                  0.26\n",
       "GKKicking                   0.26\n",
       "GKPositioning               0.26\n",
       "GKReflexes                  0.26\n",
       "Release Clause              8.59\n",
       "dtype: float64"
      ]
     },
     "execution_count": 59,
     "metadata": {},
     "output_type": "execute_result"
    }
   ],
   "source": [
    "round((df.isnull().sum()/len(df))*100,2)"
   ]
  },
  {
   "cell_type": "code",
   "execution_count": 60,
   "metadata": {},
   "outputs": [],
   "source": [
    "df['Release Clause']=df['Release Clause'].fillna(df['Release Clause'].mean())"
   ]
  },
  {
   "cell_type": "code",
   "execution_count": 61,
   "metadata": {},
   "outputs": [],
   "source": [
    "df['Height']=df['Height'].fillna(df['Height'].mean())"
   ]
  },
  {
   "cell_type": "code",
   "execution_count": 62,
   "metadata": {},
   "outputs": [],
   "source": [
    "df['Weight']=df['Weight'].fillna(df['Weight'].mean())"
   ]
  },
  {
   "cell_type": "code",
   "execution_count": 63,
   "metadata": {},
   "outputs": [],
   "source": [
    "df['International Reputation']=df['International Reputation'].fillna(df['International Reputation'].mean())"
   ]
  },
  {
   "cell_type": "markdown",
   "metadata": {},
   "source": [
    "## Exploratory Analysis:\n"
   ]
  },
  {
   "cell_type": "markdown",
   "metadata": {},
   "source": [
    "### 1.\tPlot the distribution of Overall rating for all players. \n"
   ]
  },
  {
   "cell_type": "code",
   "execution_count": 203,
   "metadata": {},
   "outputs": [
    {
     "name": "stderr",
     "output_type": "stream",
     "text": [
      "C:\\Users\\Mohammed Rishab\\anaconda3\\lib\\site-packages\\seaborn\\distributions.py:2551: FutureWarning: `distplot` is a deprecated function and will be removed in a future version. Please adapt your code to use either `displot` (a figure-level function with similar flexibility) or `histplot` (an axes-level function for histograms).\n",
      "  warnings.warn(msg, FutureWarning)\n"
     ]
    },
    {
     "data": {
      "image/png": "[encoded data removed]",
      "text/plain": [
       "<Figure size 432x288 with 1 Axes>"
      ]
     },
     "metadata": {
      "needs_background": "light"
     },
     "output_type": "display_data"
    }
   ],
   "source": [
    "sns.distplot(df['Overall'])\n",
    "plt.show()"
   ]
  },
  {
   "cell_type": "code",
   "execution_count": 65,
   "metadata": {},
   "outputs": [
    {
     "data": {
      "image/png": "[encoded data removed]",
      "text/plain": [
       "<Figure size 432x288 with 1 Axes>"
      ]
     },
     "metadata": {
      "needs_background": "light"
     },
     "output_type": "display_data"
    }
   ],
   "source": [
    "sns.boxplot(x=df['Overall'])\n",
    "plt.show()"
   ]
  },
  {
   "cell_type": "markdown",
   "metadata": {},
   "source": [
    "We can observe that median of the overall rating is around 65 and the distribution is more in range 62 - 72\n",
    "\n",
    "There are some outliers below 50 and above 85"
   ]
  },
  {
   "cell_type": "markdown",
   "metadata": {},
   "source": [
    "### 2.\tGenerate pair plots for the following variables: Overall, Value, Wage, International Reputation, Height, Weight, Release Clause\n"
   ]
  },
  {
   "cell_type": "code",
   "execution_count": 66,
   "metadata": {},
   "outputs": [
    {
     "data": {
      "image/png": "[encoded data removed]",
      "text/plain": [
       "<Figure size 1260x1260 with 56 Axes>"
      ]
     },
     "metadata": {
      "needs_background": "light"
     },
     "output_type": "display_data"
    }
   ],
   "source": [
    "sns.pairplot(data=df,vars=['Overall','Value','Wage','International Reputation','Height','Weight','Release Clause'])\n",
    "plt.show()"
   ]
  },
  {
   "cell_type": "markdown",
   "metadata": {},
   "source": [
    "### 3.\tGenerate a table containing the top 20 players ranked by Overall score and whose contract expires in 2020.\n",
    "\n",
    "a)\tWhat would the average wage for this set of players be?\n",
    "\n",
    "b)\tWhat is the average age?\n",
    "\n",
    "c)\tIs there a correlation between the Overall rating and Value for these players?\n",
    "\n"
   ]
  },
  {
   "cell_type": "code",
   "execution_count": 67,
   "metadata": {
    "scrolled": true
   },
   "outputs": [
    {
     "data": {
      "text/html": [
       "<div>\n",
       "<style scoped>\n",
       "    .dataframe tbody tr th:only-of-type {\n",
       "        vertical-align: middle;\n",
       "    }\n",
       "\n",
       "    .dataframe tbody tr th {\n",
       "        vertical-align: top;\n",
       "    }\n",
       "\n",
       "    .dataframe thead th {\n",
       "        text-align: right;\n",
       "    }\n",
       "</style>\n",
       "<table border=\"1\" class=\"dataframe\">\n",
       "  <thead>\n",
       "    <tr style=\"text-align: right;\">\n",
       "      <th></th>\n",
       "      <th>ID</th>\n",
       "      <th>Name</th>\n",
       "      <th>Age</th>\n",
       "      <th>Nationality</th>\n",
       "      <th>Overall</th>\n",
       "      <th>Potential</th>\n",
       "      <th>Club</th>\n",
       "      <th>Value</th>\n",
       "      <th>Wage</th>\n",
       "      <th>Preferred Foot</th>\n",
       "      <th>...</th>\n",
       "      <th>Composure</th>\n",
       "      <th>Marking</th>\n",
       "      <th>StandingTackle</th>\n",
       "      <th>SlidingTackle</th>\n",
       "      <th>GKDiving</th>\n",
       "      <th>GKHandling</th>\n",
       "      <th>GKKicking</th>\n",
       "      <th>GKPositioning</th>\n",
       "      <th>GKReflexes</th>\n",
       "      <th>Release Clause</th>\n",
       "    </tr>\n",
       "  </thead>\n",
       "  <tbody>\n",
       "    <tr>\n",
       "      <th>3</th>\n",
       "      <td>193080</td>\n",
       "      <td>De Gea</td>\n",
       "      <td>27</td>\n",
       "      <td>Spain</td>\n",
       "      <td>91</td>\n",
       "      <td>93</td>\n",
       "      <td>Manchester United</td>\n",
       "      <td>200000.0</td>\n",
       "      <td>260000.0</td>\n",
       "      <td>Right</td>\n",
       "      <td>...</td>\n",
       "      <td>68.0</td>\n",
       "      <td>15.0</td>\n",
       "      <td>21.0</td>\n",
       "      <td>13.0</td>\n",
       "      <td>90.0</td>\n",
       "      <td>85.0</td>\n",
       "      <td>87.0</td>\n",
       "      <td>88.0</td>\n",
       "      <td>94.0</td>\n",
       "      <td>138600000.0</td>\n",
       "    </tr>\n",
       "    <tr>\n",
       "      <th>5</th>\n",
       "      <td>183277</td>\n",
       "      <td>E. Hazard</td>\n",
       "      <td>27</td>\n",
       "      <td>Belgium</td>\n",
       "      <td>91</td>\n",
       "      <td>91</td>\n",
       "      <td>Chelsea</td>\n",
       "      <td>300000.0</td>\n",
       "      <td>340000.0</td>\n",
       "      <td>Right</td>\n",
       "      <td>...</td>\n",
       "      <td>91.0</td>\n",
       "      <td>34.0</td>\n",
       "      <td>27.0</td>\n",
       "      <td>22.0</td>\n",
       "      <td>11.0</td>\n",
       "      <td>12.0</td>\n",
       "      <td>6.0</td>\n",
       "      <td>8.0</td>\n",
       "      <td>8.0</td>\n",
       "      <td>172100000.0</td>\n",
       "    </tr>\n",
       "    <tr>\n",
       "      <th>6</th>\n",
       "      <td>177003</td>\n",
       "      <td>L. Modrić</td>\n",
       "      <td>32</td>\n",
       "      <td>Croatia</td>\n",
       "      <td>91</td>\n",
       "      <td>91</td>\n",
       "      <td>Real Madrid</td>\n",
       "      <td>700000.0</td>\n",
       "      <td>420000.0</td>\n",
       "      <td>Right</td>\n",
       "      <td>...</td>\n",
       "      <td>84.0</td>\n",
       "      <td>60.0</td>\n",
       "      <td>76.0</td>\n",
       "      <td>73.0</td>\n",
       "      <td>13.0</td>\n",
       "      <td>9.0</td>\n",
       "      <td>7.0</td>\n",
       "      <td>14.0</td>\n",
       "      <td>9.0</td>\n",
       "      <td>137400000.0</td>\n",
       "    </tr>\n",
       "    <tr>\n",
       "      <th>8</th>\n",
       "      <td>155862</td>\n",
       "      <td>Sergio Ramos</td>\n",
       "      <td>32</td>\n",
       "      <td>Spain</td>\n",
       "      <td>91</td>\n",
       "      <td>91</td>\n",
       "      <td>Real Madrid</td>\n",
       "      <td>100000.0</td>\n",
       "      <td>380000.0</td>\n",
       "      <td>Right</td>\n",
       "      <td>...</td>\n",
       "      <td>82.0</td>\n",
       "      <td>87.0</td>\n",
       "      <td>92.0</td>\n",
       "      <td>91.0</td>\n",
       "      <td>11.0</td>\n",
       "      <td>8.0</td>\n",
       "      <td>9.0</td>\n",
       "      <td>7.0</td>\n",
       "      <td>11.0</td>\n",
       "      <td>104600000.0</td>\n",
       "    </tr>\n",
       "    <tr>\n",
       "      <th>13</th>\n",
       "      <td>168542</td>\n",
       "      <td>David Silva</td>\n",
       "      <td>32</td>\n",
       "      <td>Spain</td>\n",
       "      <td>90</td>\n",
       "      <td>90</td>\n",
       "      <td>Manchester City</td>\n",
       "      <td>60000000.0</td>\n",
       "      <td>285000.0</td>\n",
       "      <td>Left</td>\n",
       "      <td>...</td>\n",
       "      <td>93.0</td>\n",
       "      <td>59.0</td>\n",
       "      <td>53.0</td>\n",
       "      <td>29.0</td>\n",
       "      <td>6.0</td>\n",
       "      <td>15.0</td>\n",
       "      <td>7.0</td>\n",
       "      <td>6.0</td>\n",
       "      <td>12.0</td>\n",
       "      <td>1100000.0</td>\n",
       "    </tr>\n",
       "    <tr>\n",
       "      <th>...</th>\n",
       "      <td>...</td>\n",
       "      <td>...</td>\n",
       "      <td>...</td>\n",
       "      <td>...</td>\n",
       "      <td>...</td>\n",
       "      <td>...</td>\n",
       "      <td>...</td>\n",
       "      <td>...</td>\n",
       "      <td>...</td>\n",
       "      <td>...</td>\n",
       "      <td>...</td>\n",
       "      <td>...</td>\n",
       "      <td>...</td>\n",
       "      <td>...</td>\n",
       "      <td>...</td>\n",
       "      <td>...</td>\n",
       "      <td>...</td>\n",
       "      <td>...</td>\n",
       "      <td>...</td>\n",
       "      <td>...</td>\n",
       "      <td>...</td>\n",
       "    </tr>\n",
       "    <tr>\n",
       "      <th>18166</th>\n",
       "      <td>243621</td>\n",
       "      <td>N. Ayéva</td>\n",
       "      <td>16</td>\n",
       "      <td>Sweden</td>\n",
       "      <td>48</td>\n",
       "      <td>72</td>\n",
       "      <td>Örebro SK</td>\n",
       "      <td>70000.0</td>\n",
       "      <td>1000.0</td>\n",
       "      <td>Right</td>\n",
       "      <td>...</td>\n",
       "      <td>44.0</td>\n",
       "      <td>14.0</td>\n",
       "      <td>19.0</td>\n",
       "      <td>16.0</td>\n",
       "      <td>10.0</td>\n",
       "      <td>9.0</td>\n",
       "      <td>8.0</td>\n",
       "      <td>7.0</td>\n",
       "      <td>6.0</td>\n",
       "      <td>158000.0</td>\n",
       "    </tr>\n",
       "    <tr>\n",
       "      <th>18179</th>\n",
       "      <td>246243</td>\n",
       "      <td>J. Williams</td>\n",
       "      <td>17</td>\n",
       "      <td>England</td>\n",
       "      <td>48</td>\n",
       "      <td>64</td>\n",
       "      <td>Northampton Town</td>\n",
       "      <td>50000.0</td>\n",
       "      <td>1000.0</td>\n",
       "      <td>Right</td>\n",
       "      <td>...</td>\n",
       "      <td>37.0</td>\n",
       "      <td>42.0</td>\n",
       "      <td>51.0</td>\n",
       "      <td>49.0</td>\n",
       "      <td>14.0</td>\n",
       "      <td>11.0</td>\n",
       "      <td>7.0</td>\n",
       "      <td>11.0</td>\n",
       "      <td>8.0</td>\n",
       "      <td>119000.0</td>\n",
       "    </tr>\n",
       "    <tr>\n",
       "      <th>18187</th>\n",
       "      <td>240158</td>\n",
       "      <td>C. Ehlich</td>\n",
       "      <td>19</td>\n",
       "      <td>Germany</td>\n",
       "      <td>47</td>\n",
       "      <td>59</td>\n",
       "      <td>SpVgg Unterhaching</td>\n",
       "      <td>40000.0</td>\n",
       "      <td>1000.0</td>\n",
       "      <td>Right</td>\n",
       "      <td>...</td>\n",
       "      <td>47.0</td>\n",
       "      <td>40.0</td>\n",
       "      <td>42.0</td>\n",
       "      <td>42.0</td>\n",
       "      <td>13.0</td>\n",
       "      <td>12.0</td>\n",
       "      <td>11.0</td>\n",
       "      <td>15.0</td>\n",
       "      <td>12.0</td>\n",
       "      <td>66000.0</td>\n",
       "    </tr>\n",
       "    <tr>\n",
       "      <th>18189</th>\n",
       "      <td>240160</td>\n",
       "      <td>A. Kaltner</td>\n",
       "      <td>18</td>\n",
       "      <td>Germany</td>\n",
       "      <td>47</td>\n",
       "      <td>61</td>\n",
       "      <td>SpVgg Unterhaching</td>\n",
       "      <td>60000.0</td>\n",
       "      <td>1000.0</td>\n",
       "      <td>Right</td>\n",
       "      <td>...</td>\n",
       "      <td>37.0</td>\n",
       "      <td>28.0</td>\n",
       "      <td>15.0</td>\n",
       "      <td>22.0</td>\n",
       "      <td>15.0</td>\n",
       "      <td>5.0</td>\n",
       "      <td>14.0</td>\n",
       "      <td>12.0</td>\n",
       "      <td>8.0</td>\n",
       "      <td>125000.0</td>\n",
       "    </tr>\n",
       "    <tr>\n",
       "      <th>18203</th>\n",
       "      <td>243165</td>\n",
       "      <td>N. Christoffersson</td>\n",
       "      <td>19</td>\n",
       "      <td>Sweden</td>\n",
       "      <td>47</td>\n",
       "      <td>63</td>\n",
       "      <td>Trelleborgs FF</td>\n",
       "      <td>60000.0</td>\n",
       "      <td>1000.0</td>\n",
       "      <td>Right</td>\n",
       "      <td>...</td>\n",
       "      <td>42.0</td>\n",
       "      <td>22.0</td>\n",
       "      <td>15.0</td>\n",
       "      <td>19.0</td>\n",
       "      <td>10.0</td>\n",
       "      <td>9.0</td>\n",
       "      <td>9.0</td>\n",
       "      <td>5.0</td>\n",
       "      <td>12.0</td>\n",
       "      <td>113000.0</td>\n",
       "    </tr>\n",
       "  </tbody>\n",
       "</table>\n",
       "<p>4044 rows × 56 columns</p>\n",
       "</div>"
      ],
      "text/plain": [
       "           ID                Name  Age Nationality  Overall  Potential  \\\n",
       "3      193080              De Gea   27       Spain       91         93   \n",
       "5      183277           E. Hazard   27     Belgium       91         91   \n",
       "6      177003           L. Modrić   32     Croatia       91         91   \n",
       "8      155862        Sergio Ramos   32       Spain       91         91   \n",
       "13     168542         David Silva   32       Spain       90         90   \n",
       "...       ...                 ...  ...         ...      ...        ...   \n",
       "18166  243621            N. Ayéva   16      Sweden       48         72   \n",
       "18179  246243         J. Williams   17     England       48         64   \n",
       "18187  240158           C. Ehlich   19     Germany       47         59   \n",
       "18189  240160          A. Kaltner   18     Germany       47         61   \n",
       "18203  243165  N. Christoffersson   19      Sweden       47         63   \n",
       "\n",
       "                     Club       Value      Wage Preferred Foot  ...  \\\n",
       "3       Manchester United    200000.0  260000.0          Right  ...   \n",
       "5                 Chelsea    300000.0  340000.0          Right  ...   \n",
       "6             Real Madrid    700000.0  420000.0          Right  ...   \n",
       "8             Real Madrid    100000.0  380000.0          Right  ...   \n",
       "13        Manchester City  60000000.0  285000.0           Left  ...   \n",
       "...                   ...         ...       ...            ...  ...   \n",
       "18166           Örebro SK     70000.0    1000.0          Right  ...   \n",
       "18179    Northampton Town     50000.0    1000.0          Right  ...   \n",
       "18187  SpVgg Unterhaching     40000.0    1000.0          Right  ...   \n",
       "18189  SpVgg Unterhaching     60000.0    1000.0          Right  ...   \n",
       "18203      Trelleborgs FF     60000.0    1000.0          Right  ...   \n",
       "\n",
       "       Composure  Marking  StandingTackle SlidingTackle GKDiving GKHandling  \\\n",
       "3           68.0     15.0            21.0          13.0     90.0       85.0   \n",
       "5           91.0     34.0            27.0          22.0     11.0       12.0   \n",
       "6           84.0     60.0            76.0          73.0     13.0        9.0   \n",
       "8           82.0     87.0            92.0          91.0     11.0        8.0   \n",
       "13          93.0     59.0            53.0          29.0      6.0       15.0   \n",
       "...          ...      ...             ...           ...      ...        ...   \n",
       "18166       44.0     14.0            19.0          16.0     10.0        9.0   \n",
       "18179       37.0     42.0            51.0          49.0     14.0       11.0   \n",
       "18187       47.0     40.0            42.0          42.0     13.0       12.0   \n",
       "18189       37.0     28.0            15.0          22.0     15.0        5.0   \n",
       "18203       42.0     22.0            15.0          19.0     10.0        9.0   \n",
       "\n",
       "       GKKicking  GKPositioning GKReflexes  Release Clause  \n",
       "3           87.0           88.0       94.0     138600000.0  \n",
       "5            6.0            8.0        8.0     172100000.0  \n",
       "6            7.0           14.0        9.0     137400000.0  \n",
       "8            9.0            7.0       11.0     104600000.0  \n",
       "13           7.0            6.0       12.0       1100000.0  \n",
       "...          ...            ...        ...             ...  \n",
       "18166        8.0            7.0        6.0        158000.0  \n",
       "18179        7.0           11.0        8.0        119000.0  \n",
       "18187       11.0           15.0       12.0         66000.0  \n",
       "18189       14.0           12.0        8.0        125000.0  \n",
       "18203        9.0            5.0       12.0        113000.0  \n",
       "\n",
       "[4044 rows x 56 columns]"
      ]
     },
     "execution_count": 67,
     "metadata": {},
     "output_type": "execute_result"
    }
   ],
   "source": [
    "a=df[df['Contract Valid Until'].dt.year==2020]\n",
    "a"
   ]
  },
  {
   "cell_type": "code",
   "execution_count": 68,
   "metadata": {},
   "outputs": [
    {
     "data": {
      "text/html": [
       "<div>\n",
       "<style scoped>\n",
       "    .dataframe tbody tr th:only-of-type {\n",
       "        vertical-align: middle;\n",
       "    }\n",
       "\n",
       "    .dataframe tbody tr th {\n",
       "        vertical-align: top;\n",
       "    }\n",
       "\n",
       "    .dataframe thead th {\n",
       "        text-align: right;\n",
       "    }\n",
       "</style>\n",
       "<table border=\"1\" class=\"dataframe\">\n",
       "  <thead>\n",
       "    <tr style=\"text-align: right;\">\n",
       "      <th></th>\n",
       "      <th>ID</th>\n",
       "      <th>Name</th>\n",
       "      <th>Age</th>\n",
       "      <th>Nationality</th>\n",
       "      <th>Overall</th>\n",
       "      <th>Potential</th>\n",
       "      <th>Club</th>\n",
       "      <th>Value</th>\n",
       "      <th>Wage</th>\n",
       "      <th>Preferred Foot</th>\n",
       "      <th>...</th>\n",
       "      <th>Composure</th>\n",
       "      <th>Marking</th>\n",
       "      <th>StandingTackle</th>\n",
       "      <th>SlidingTackle</th>\n",
       "      <th>GKDiving</th>\n",
       "      <th>GKHandling</th>\n",
       "      <th>GKKicking</th>\n",
       "      <th>GKPositioning</th>\n",
       "      <th>GKReflexes</th>\n",
       "      <th>Release Clause</th>\n",
       "    </tr>\n",
       "  </thead>\n",
       "  <tbody>\n",
       "    <tr>\n",
       "      <th>3</th>\n",
       "      <td>193080</td>\n",
       "      <td>De Gea</td>\n",
       "      <td>27</td>\n",
       "      <td>Spain</td>\n",
       "      <td>91</td>\n",
       "      <td>93</td>\n",
       "      <td>Manchester United</td>\n",
       "      <td>200000.0</td>\n",
       "      <td>260000.0</td>\n",
       "      <td>Right</td>\n",
       "      <td>...</td>\n",
       "      <td>68.0</td>\n",
       "      <td>15.0</td>\n",
       "      <td>21.0</td>\n",
       "      <td>13.0</td>\n",
       "      <td>90.0</td>\n",
       "      <td>85.0</td>\n",
       "      <td>87.0</td>\n",
       "      <td>88.0</td>\n",
       "      <td>94.0</td>\n",
       "      <td>138600000.0</td>\n",
       "    </tr>\n",
       "    <tr>\n",
       "      <th>6</th>\n",
       "      <td>177003</td>\n",
       "      <td>L. Modrić</td>\n",
       "      <td>32</td>\n",
       "      <td>Croatia</td>\n",
       "      <td>91</td>\n",
       "      <td>91</td>\n",
       "      <td>Real Madrid</td>\n",
       "      <td>700000.0</td>\n",
       "      <td>420000.0</td>\n",
       "      <td>Right</td>\n",
       "      <td>...</td>\n",
       "      <td>84.0</td>\n",
       "      <td>60.0</td>\n",
       "      <td>76.0</td>\n",
       "      <td>73.0</td>\n",
       "      <td>13.0</td>\n",
       "      <td>9.0</td>\n",
       "      <td>7.0</td>\n",
       "      <td>14.0</td>\n",
       "      <td>9.0</td>\n",
       "      <td>137400000.0</td>\n",
       "    </tr>\n",
       "    <tr>\n",
       "      <th>8</th>\n",
       "      <td>155862</td>\n",
       "      <td>Sergio Ramos</td>\n",
       "      <td>32</td>\n",
       "      <td>Spain</td>\n",
       "      <td>91</td>\n",
       "      <td>91</td>\n",
       "      <td>Real Madrid</td>\n",
       "      <td>100000.0</td>\n",
       "      <td>380000.0</td>\n",
       "      <td>Right</td>\n",
       "      <td>...</td>\n",
       "      <td>82.0</td>\n",
       "      <td>87.0</td>\n",
       "      <td>92.0</td>\n",
       "      <td>91.0</td>\n",
       "      <td>11.0</td>\n",
       "      <td>8.0</td>\n",
       "      <td>9.0</td>\n",
       "      <td>7.0</td>\n",
       "      <td>11.0</td>\n",
       "      <td>104600000.0</td>\n",
       "    </tr>\n",
       "    <tr>\n",
       "      <th>5</th>\n",
       "      <td>183277</td>\n",
       "      <td>E. Hazard</td>\n",
       "      <td>27</td>\n",
       "      <td>Belgium</td>\n",
       "      <td>91</td>\n",
       "      <td>91</td>\n",
       "      <td>Chelsea</td>\n",
       "      <td>300000.0</td>\n",
       "      <td>340000.0</td>\n",
       "      <td>Right</td>\n",
       "      <td>...</td>\n",
       "      <td>91.0</td>\n",
       "      <td>34.0</td>\n",
       "      <td>27.0</td>\n",
       "      <td>22.0</td>\n",
       "      <td>11.0</td>\n",
       "      <td>12.0</td>\n",
       "      <td>6.0</td>\n",
       "      <td>8.0</td>\n",
       "      <td>8.0</td>\n",
       "      <td>172100000.0</td>\n",
       "    </tr>\n",
       "    <tr>\n",
       "      <th>13</th>\n",
       "      <td>168542</td>\n",
       "      <td>David Silva</td>\n",
       "      <td>32</td>\n",
       "      <td>Spain</td>\n",
       "      <td>90</td>\n",
       "      <td>90</td>\n",
       "      <td>Manchester City</td>\n",
       "      <td>60000000.0</td>\n",
       "      <td>285000.0</td>\n",
       "      <td>Left</td>\n",
       "      <td>...</td>\n",
       "      <td>93.0</td>\n",
       "      <td>59.0</td>\n",
       "      <td>53.0</td>\n",
       "      <td>29.0</td>\n",
       "      <td>6.0</td>\n",
       "      <td>15.0</td>\n",
       "      <td>7.0</td>\n",
       "      <td>6.0</td>\n",
       "      <td>12.0</td>\n",
       "      <td>1100000.0</td>\n",
       "    </tr>\n",
       "    <tr>\n",
       "      <th>21</th>\n",
       "      <td>179813</td>\n",
       "      <td>E. Cavani</td>\n",
       "      <td>31</td>\n",
       "      <td>Uruguay</td>\n",
       "      <td>89</td>\n",
       "      <td>89</td>\n",
       "      <td>Paris Saint-Germain</td>\n",
       "      <td>60000000.0</td>\n",
       "      <td>200000.0</td>\n",
       "      <td>Right</td>\n",
       "      <td>...</td>\n",
       "      <td>82.0</td>\n",
       "      <td>52.0</td>\n",
       "      <td>45.0</td>\n",
       "      <td>39.0</td>\n",
       "      <td>12.0</td>\n",
       "      <td>5.0</td>\n",
       "      <td>13.0</td>\n",
       "      <td>13.0</td>\n",
       "      <td>10.0</td>\n",
       "      <td>1100000.0</td>\n",
       "    </tr>\n",
       "    <tr>\n",
       "      <th>24</th>\n",
       "      <td>138956</td>\n",
       "      <td>G. Chiellini</td>\n",
       "      <td>33</td>\n",
       "      <td>Italy</td>\n",
       "      <td>89</td>\n",
       "      <td>89</td>\n",
       "      <td>Juventus</td>\n",
       "      <td>700000.0</td>\n",
       "      <td>215000.0</td>\n",
       "      <td>Left</td>\n",
       "      <td>...</td>\n",
       "      <td>84.0</td>\n",
       "      <td>93.0</td>\n",
       "      <td>93.0</td>\n",
       "      <td>90.0</td>\n",
       "      <td>3.0</td>\n",
       "      <td>3.0</td>\n",
       "      <td>2.0</td>\n",
       "      <td>4.0</td>\n",
       "      <td>3.0</td>\n",
       "      <td>44600000.0</td>\n",
       "    </tr>\n",
       "    <tr>\n",
       "      <th>31</th>\n",
       "      <td>190460</td>\n",
       "      <td>C. Eriksen</td>\n",
       "      <td>26</td>\n",
       "      <td>Denmark</td>\n",
       "      <td>88</td>\n",
       "      <td>91</td>\n",
       "      <td>Tottenham Hotspur</td>\n",
       "      <td>73500000.0</td>\n",
       "      <td>205000.0</td>\n",
       "      <td>Right</td>\n",
       "      <td>...</td>\n",
       "      <td>88.0</td>\n",
       "      <td>59.0</td>\n",
       "      <td>57.0</td>\n",
       "      <td>22.0</td>\n",
       "      <td>9.0</td>\n",
       "      <td>14.0</td>\n",
       "      <td>7.0</td>\n",
       "      <td>7.0</td>\n",
       "      <td>6.0</td>\n",
       "      <td>141500000.0</td>\n",
       "    </tr>\n",
       "    <tr>\n",
       "      <th>39</th>\n",
       "      <td>164240</td>\n",
       "      <td>Thiago Silva</td>\n",
       "      <td>33</td>\n",
       "      <td>Brazil</td>\n",
       "      <td>88</td>\n",
       "      <td>88</td>\n",
       "      <td>Paris Saint-Germain</td>\n",
       "      <td>400000.0</td>\n",
       "      <td>165000.0</td>\n",
       "      <td>Right</td>\n",
       "      <td>...</td>\n",
       "      <td>81.0</td>\n",
       "      <td>88.0</td>\n",
       "      <td>89.0</td>\n",
       "      <td>85.0</td>\n",
       "      <td>9.0</td>\n",
       "      <td>12.0</td>\n",
       "      <td>5.0</td>\n",
       "      <td>9.0</td>\n",
       "      <td>10.0</td>\n",
       "      <td>44400000.0</td>\n",
       "    </tr>\n",
       "    <tr>\n",
       "      <th>50</th>\n",
       "      <td>175943</td>\n",
       "      <td>D. Mertens</td>\n",
       "      <td>31</td>\n",
       "      <td>Belgium</td>\n",
       "      <td>87</td>\n",
       "      <td>87</td>\n",
       "      <td>Napoli</td>\n",
       "      <td>500000.0</td>\n",
       "      <td>135000.0</td>\n",
       "      <td>Right</td>\n",
       "      <td>...</td>\n",
       "      <td>81.0</td>\n",
       "      <td>25.0</td>\n",
       "      <td>40.0</td>\n",
       "      <td>40.0</td>\n",
       "      <td>7.0</td>\n",
       "      <td>10.0</td>\n",
       "      <td>8.0</td>\n",
       "      <td>10.0</td>\n",
       "      <td>4.0</td>\n",
       "      <td>76500000.0</td>\n",
       "    </tr>\n",
       "    <tr>\n",
       "      <th>52</th>\n",
       "      <td>171877</td>\n",
       "      <td>M. Hamšík</td>\n",
       "      <td>30</td>\n",
       "      <td>Slovakia</td>\n",
       "      <td>87</td>\n",
       "      <td>87</td>\n",
       "      <td>Napoli</td>\n",
       "      <td>46500000.0</td>\n",
       "      <td>125000.0</td>\n",
       "      <td>Right</td>\n",
       "      <td>...</td>\n",
       "      <td>84.0</td>\n",
       "      <td>75.0</td>\n",
       "      <td>73.0</td>\n",
       "      <td>62.0</td>\n",
       "      <td>8.0</td>\n",
       "      <td>6.0</td>\n",
       "      <td>4.0</td>\n",
       "      <td>14.0</td>\n",
       "      <td>14.0</td>\n",
       "      <td>79100000.0</td>\n",
       "    </tr>\n",
       "    <tr>\n",
       "      <th>49</th>\n",
       "      <td>189332</td>\n",
       "      <td>Jordi Alba</td>\n",
       "      <td>29</td>\n",
       "      <td>Spain</td>\n",
       "      <td>87</td>\n",
       "      <td>87</td>\n",
       "      <td>FC Barcelona</td>\n",
       "      <td>800000.0</td>\n",
       "      <td>250000.0</td>\n",
       "      <td>Left</td>\n",
       "      <td>...</td>\n",
       "      <td>79.0</td>\n",
       "      <td>72.0</td>\n",
       "      <td>84.0</td>\n",
       "      <td>85.0</td>\n",
       "      <td>13.0</td>\n",
       "      <td>15.0</td>\n",
       "      <td>13.0</td>\n",
       "      <td>6.0</td>\n",
       "      <td>13.0</td>\n",
       "      <td>77900000.0</td>\n",
       "    </tr>\n",
       "    <tr>\n",
       "      <th>46</th>\n",
       "      <td>193041</td>\n",
       "      <td>K. Navas</td>\n",
       "      <td>31</td>\n",
       "      <td>Costa Rica</td>\n",
       "      <td>87</td>\n",
       "      <td>87</td>\n",
       "      <td>Real Madrid</td>\n",
       "      <td>30500000.0</td>\n",
       "      <td>195000.0</td>\n",
       "      <td>Right</td>\n",
       "      <td>...</td>\n",
       "      <td>67.0</td>\n",
       "      <td>28.0</td>\n",
       "      <td>14.0</td>\n",
       "      <td>14.0</td>\n",
       "      <td>90.0</td>\n",
       "      <td>81.0</td>\n",
       "      <td>75.0</td>\n",
       "      <td>82.0</td>\n",
       "      <td>90.0</td>\n",
       "      <td>62500000.0</td>\n",
       "    </tr>\n",
       "    <tr>\n",
       "      <th>64</th>\n",
       "      <td>191043</td>\n",
       "      <td>Alex Sandro</td>\n",
       "      <td>27</td>\n",
       "      <td>Brazil</td>\n",
       "      <td>86</td>\n",
       "      <td>86</td>\n",
       "      <td>Juventus</td>\n",
       "      <td>36500000.0</td>\n",
       "      <td>160000.0</td>\n",
       "      <td>Left</td>\n",
       "      <td>...</td>\n",
       "      <td>82.0</td>\n",
       "      <td>81.0</td>\n",
       "      <td>84.0</td>\n",
       "      <td>84.0</td>\n",
       "      <td>7.0</td>\n",
       "      <td>7.0</td>\n",
       "      <td>9.0</td>\n",
       "      <td>12.0</td>\n",
       "      <td>5.0</td>\n",
       "      <td>60200000.0</td>\n",
       "    </tr>\n",
       "    <tr>\n",
       "      <th>71</th>\n",
       "      <td>184087</td>\n",
       "      <td>T. Alderweireld</td>\n",
       "      <td>29</td>\n",
       "      <td>Belgium</td>\n",
       "      <td>86</td>\n",
       "      <td>87</td>\n",
       "      <td>Tottenham Hotspur</td>\n",
       "      <td>900000.0</td>\n",
       "      <td>150000.0</td>\n",
       "      <td>Right</td>\n",
       "      <td>...</td>\n",
       "      <td>81.0</td>\n",
       "      <td>90.0</td>\n",
       "      <td>91.0</td>\n",
       "      <td>86.0</td>\n",
       "      <td>16.0</td>\n",
       "      <td>6.0</td>\n",
       "      <td>14.0</td>\n",
       "      <td>16.0</td>\n",
       "      <td>14.0</td>\n",
       "      <td>75100000.0</td>\n",
       "    </tr>\n",
       "    <tr>\n",
       "      <th>73</th>\n",
       "      <td>177509</td>\n",
       "      <td>M. Benatia</td>\n",
       "      <td>31</td>\n",
       "      <td>Morocco</td>\n",
       "      <td>86</td>\n",
       "      <td>86</td>\n",
       "      <td>Juventus</td>\n",
       "      <td>30000000.0</td>\n",
       "      <td>160000.0</td>\n",
       "      <td>Right</td>\n",
       "      <td>...</td>\n",
       "      <td>82.0</td>\n",
       "      <td>89.0</td>\n",
       "      <td>87.0</td>\n",
       "      <td>85.0</td>\n",
       "      <td>7.0</td>\n",
       "      <td>4.0</td>\n",
       "      <td>8.0</td>\n",
       "      <td>7.0</td>\n",
       "      <td>11.0</td>\n",
       "      <td>49500000.0</td>\n",
       "    </tr>\n",
       "    <tr>\n",
       "      <th>75</th>\n",
       "      <td>135507</td>\n",
       "      <td>Fernandinho</td>\n",
       "      <td>33</td>\n",
       "      <td>Brazil</td>\n",
       "      <td>86</td>\n",
       "      <td>86</td>\n",
       "      <td>Manchester City</td>\n",
       "      <td>800000.0</td>\n",
       "      <td>185000.0</td>\n",
       "      <td>Right</td>\n",
       "      <td>...</td>\n",
       "      <td>79.0</td>\n",
       "      <td>85.0</td>\n",
       "      <td>85.0</td>\n",
       "      <td>80.0</td>\n",
       "      <td>12.0</td>\n",
       "      <td>11.0</td>\n",
       "      <td>5.0</td>\n",
       "      <td>13.0</td>\n",
       "      <td>7.0</td>\n",
       "      <td>33300000.0</td>\n",
       "    </tr>\n",
       "    <tr>\n",
       "      <th>102</th>\n",
       "      <td>171919</td>\n",
       "      <td>Naldo</td>\n",
       "      <td>35</td>\n",
       "      <td>Brazil</td>\n",
       "      <td>85</td>\n",
       "      <td>85</td>\n",
       "      <td>FC Schalke 04</td>\n",
       "      <td>9000000.0</td>\n",
       "      <td>38000.0</td>\n",
       "      <td>Right</td>\n",
       "      <td>...</td>\n",
       "      <td>84.0</td>\n",
       "      <td>86.0</td>\n",
       "      <td>88.0</td>\n",
       "      <td>85.0</td>\n",
       "      <td>14.0</td>\n",
       "      <td>10.0</td>\n",
       "      <td>14.0</td>\n",
       "      <td>8.0</td>\n",
       "      <td>14.0</td>\n",
       "      <td>15300000.0</td>\n",
       "    </tr>\n",
       "    <tr>\n",
       "      <th>104</th>\n",
       "      <td>168609</td>\n",
       "      <td>Miranda</td>\n",
       "      <td>33</td>\n",
       "      <td>Brazil</td>\n",
       "      <td>85</td>\n",
       "      <td>85</td>\n",
       "      <td>Inter</td>\n",
       "      <td>15500000.0</td>\n",
       "      <td>96000.0</td>\n",
       "      <td>Right</td>\n",
       "      <td>...</td>\n",
       "      <td>81.0</td>\n",
       "      <td>90.0</td>\n",
       "      <td>90.0</td>\n",
       "      <td>85.0</td>\n",
       "      <td>12.0</td>\n",
       "      <td>6.0</td>\n",
       "      <td>10.0</td>\n",
       "      <td>13.0</td>\n",
       "      <td>12.0</td>\n",
       "      <td>26400000.0</td>\n",
       "    </tr>\n",
       "    <tr>\n",
       "      <th>103</th>\n",
       "      <td>170890</td>\n",
       "      <td>B. Matuidi</td>\n",
       "      <td>31</td>\n",
       "      <td>France</td>\n",
       "      <td>85</td>\n",
       "      <td>85</td>\n",
       "      <td>Juventus</td>\n",
       "      <td>600000.0</td>\n",
       "      <td>145000.0</td>\n",
       "      <td>Left</td>\n",
       "      <td>...</td>\n",
       "      <td>82.0</td>\n",
       "      <td>85.0</td>\n",
       "      <td>84.0</td>\n",
       "      <td>86.0</td>\n",
       "      <td>8.0</td>\n",
       "      <td>11.0</td>\n",
       "      <td>5.0</td>\n",
       "      <td>10.0</td>\n",
       "      <td>14.0</td>\n",
       "      <td>42900000.0</td>\n",
       "    </tr>\n",
       "  </tbody>\n",
       "</table>\n",
       "<p>20 rows × 56 columns</p>\n",
       "</div>"
      ],
      "text/plain": [
       "         ID             Name  Age Nationality  Overall  Potential  \\\n",
       "3    193080           De Gea   27       Spain       91         93   \n",
       "6    177003        L. Modrić   32     Croatia       91         91   \n",
       "8    155862     Sergio Ramos   32       Spain       91         91   \n",
       "5    183277        E. Hazard   27     Belgium       91         91   \n",
       "13   168542      David Silva   32       Spain       90         90   \n",
       "21   179813        E. Cavani   31     Uruguay       89         89   \n",
       "24   138956     G. Chiellini   33       Italy       89         89   \n",
       "31   190460       C. Eriksen   26     Denmark       88         91   \n",
       "39   164240     Thiago Silva   33      Brazil       88         88   \n",
       "50   175943       D. Mertens   31     Belgium       87         87   \n",
       "52   171877        M. Hamšík   30    Slovakia       87         87   \n",
       "49   189332       Jordi Alba   29       Spain       87         87   \n",
       "46   193041         K. Navas   31  Costa Rica       87         87   \n",
       "64   191043      Alex Sandro   27      Brazil       86         86   \n",
       "71   184087  T. Alderweireld   29     Belgium       86         87   \n",
       "73   177509       M. Benatia   31     Morocco       86         86   \n",
       "75   135507      Fernandinho   33      Brazil       86         86   \n",
       "102  171919            Naldo   35      Brazil       85         85   \n",
       "104  168609          Miranda   33      Brazil       85         85   \n",
       "103  170890       B. Matuidi   31      France       85         85   \n",
       "\n",
       "                    Club       Value      Wage Preferred Foot  ...  Composure  \\\n",
       "3      Manchester United    200000.0  260000.0          Right  ...       68.0   \n",
       "6            Real Madrid    700000.0  420000.0          Right  ...       84.0   \n",
       "8            Real Madrid    100000.0  380000.0          Right  ...       82.0   \n",
       "5                Chelsea    300000.0  340000.0          Right  ...       91.0   \n",
       "13       Manchester City  60000000.0  285000.0           Left  ...       93.0   \n",
       "21   Paris Saint-Germain  60000000.0  200000.0          Right  ...       82.0   \n",
       "24              Juventus    700000.0  215000.0           Left  ...       84.0   \n",
       "31     Tottenham Hotspur  73500000.0  205000.0          Right  ...       88.0   \n",
       "39   Paris Saint-Germain    400000.0  165000.0          Right  ...       81.0   \n",
       "50                Napoli    500000.0  135000.0          Right  ...       81.0   \n",
       "52                Napoli  46500000.0  125000.0          Right  ...       84.0   \n",
       "49          FC Barcelona    800000.0  250000.0           Left  ...       79.0   \n",
       "46           Real Madrid  30500000.0  195000.0          Right  ...       67.0   \n",
       "64              Juventus  36500000.0  160000.0           Left  ...       82.0   \n",
       "71     Tottenham Hotspur    900000.0  150000.0          Right  ...       81.0   \n",
       "73              Juventus  30000000.0  160000.0          Right  ...       82.0   \n",
       "75       Manchester City    800000.0  185000.0          Right  ...       79.0   \n",
       "102        FC Schalke 04   9000000.0   38000.0          Right  ...       84.0   \n",
       "104                Inter  15500000.0   96000.0          Right  ...       81.0   \n",
       "103             Juventus    600000.0  145000.0           Left  ...       82.0   \n",
       "\n",
       "     Marking  StandingTackle SlidingTackle GKDiving GKHandling  GKKicking  \\\n",
       "3       15.0            21.0          13.0     90.0       85.0       87.0   \n",
       "6       60.0            76.0          73.0     13.0        9.0        7.0   \n",
       "8       87.0            92.0          91.0     11.0        8.0        9.0   \n",
       "5       34.0            27.0          22.0     11.0       12.0        6.0   \n",
       "13      59.0            53.0          29.0      6.0       15.0        7.0   \n",
       "21      52.0            45.0          39.0     12.0        5.0       13.0   \n",
       "24      93.0            93.0          90.0      3.0        3.0        2.0   \n",
       "31      59.0            57.0          22.0      9.0       14.0        7.0   \n",
       "39      88.0            89.0          85.0      9.0       12.0        5.0   \n",
       "50      25.0            40.0          40.0      7.0       10.0        8.0   \n",
       "52      75.0            73.0          62.0      8.0        6.0        4.0   \n",
       "49      72.0            84.0          85.0     13.0       15.0       13.0   \n",
       "46      28.0            14.0          14.0     90.0       81.0       75.0   \n",
       "64      81.0            84.0          84.0      7.0        7.0        9.0   \n",
       "71      90.0            91.0          86.0     16.0        6.0       14.0   \n",
       "73      89.0            87.0          85.0      7.0        4.0        8.0   \n",
       "75      85.0            85.0          80.0     12.0       11.0        5.0   \n",
       "102     86.0            88.0          85.0     14.0       10.0       14.0   \n",
       "104     90.0            90.0          85.0     12.0        6.0       10.0   \n",
       "103     85.0            84.0          86.0      8.0       11.0        5.0   \n",
       "\n",
       "     GKPositioning GKReflexes  Release Clause  \n",
       "3             88.0       94.0     138600000.0  \n",
       "6             14.0        9.0     137400000.0  \n",
       "8              7.0       11.0     104600000.0  \n",
       "5              8.0        8.0     172100000.0  \n",
       "13             6.0       12.0       1100000.0  \n",
       "21            13.0       10.0       1100000.0  \n",
       "24             4.0        3.0      44600000.0  \n",
       "31             7.0        6.0     141500000.0  \n",
       "39             9.0       10.0      44400000.0  \n",
       "50            10.0        4.0      76500000.0  \n",
       "52            14.0       14.0      79100000.0  \n",
       "49             6.0       13.0      77900000.0  \n",
       "46            82.0       90.0      62500000.0  \n",
       "64            12.0        5.0      60200000.0  \n",
       "71            16.0       14.0      75100000.0  \n",
       "73             7.0       11.0      49500000.0  \n",
       "75            13.0        7.0      33300000.0  \n",
       "102            8.0       14.0      15300000.0  \n",
       "104           13.0       12.0      26400000.0  \n",
       "103           10.0       14.0      42900000.0  \n",
       "\n",
       "[20 rows x 56 columns]"
      ]
     },
     "execution_count": 68,
     "metadata": {},
     "output_type": "execute_result"
    }
   ],
   "source": [
    "perform_2020=a.sort_values(by='Overall',ascending=False).iloc[0:20]\n",
    "perform_2020"
   ]
  },
  {
   "cell_type": "markdown",
   "metadata": {},
   "source": [
    "#### a).What would the average wage for this set of players be?"
   ]
  },
  {
   "cell_type": "code",
   "execution_count": 69,
   "metadata": {},
   "outputs": [
    {
     "name": "stdout",
     "output_type": "stream",
     "text": [
      "The average wage for this set of players is  205450.0\n"
     ]
    }
   ],
   "source": [
    "print('The average wage for this set of players is ',perform_2020['Wage'].mean())"
   ]
  },
  {
   "cell_type": "markdown",
   "metadata": {},
   "source": [
    "#### b).What is the average age?"
   ]
  },
  {
   "cell_type": "code",
   "execution_count": 70,
   "metadata": {},
   "outputs": [
    {
     "name": "stdout",
     "output_type": "stream",
     "text": [
      "The average age for this set of players is  30.65\n"
     ]
    }
   ],
   "source": [
    "print('The average age for this set of players is ',perform_2020['Age'].mean())"
   ]
  },
  {
   "cell_type": "markdown",
   "metadata": {},
   "source": [
    "#### c).Is there a correlation between the Overall rating and Value for these players?"
   ]
  },
  {
   "cell_type": "code",
   "execution_count": 71,
   "metadata": {},
   "outputs": [
    {
     "data": {
      "text/plain": [
       "0.5545195185275916"
      ]
     },
     "execution_count": 71,
     "metadata": {},
     "output_type": "execute_result"
    }
   ],
   "source": [
    "df['Overall'].corr(df['Value'])"
   ]
  },
  {
   "cell_type": "markdown",
   "metadata": {},
   "source": [
    "There is a moderately good positive correlation between the overall rating and value for these players"
   ]
  },
  {
   "cell_type": "markdown",
   "metadata": {},
   "source": [
    "### 4.\tGenerate tables containing the top 5 players by Overall rating for each unique position.\n",
    "a)\tAre there any players appearing in more than one Table. Please point out such players.\n",
    "\n",
    "b)\tWhat is the average wage one can expect to pay for the top 5 in every position?"
   ]
  },
  {
   "cell_type": "code",
   "execution_count": 72,
   "metadata": {},
   "outputs": [
    {
     "data": {
      "text/plain": [
       "array(['RF', 'ST', 'LW', 'GK', 'RCM', 'LF', 'RS', 'RCB', 'LCM', 'CB',\n",
       "       'LDM', 'CAM', 'CDM', 'LS', 'LCB', 'RM', 'LAM', 'LM', 'LB', 'RDM',\n",
       "       'RW', 'CM', 'RB', 'RAM', 'CF', 'RWB', 'LWB', nan], dtype=object)"
      ]
     },
     "execution_count": 72,
     "metadata": {},
     "output_type": "execute_result"
    }
   ],
   "source": [
    "df['Position'].unique()"
   ]
  },
  {
   "cell_type": "code",
   "execution_count": 106,
   "metadata": {},
   "outputs": [
    {
     "data": {
      "text/plain": [
       "27"
      ]
     },
     "execution_count": 106,
     "metadata": {},
     "output_type": "execute_result"
    }
   ],
   "source": [
    "df['Position'].nunique()"
   ]
  },
  {
   "cell_type": "code",
   "execution_count": 76,
   "metadata": {},
   "outputs": [],
   "source": [
    "RF=df[df['Position']=='RF'].sort_values(by='Overall',ascending=False).nlargest(columns='Overall',n=5)"
   ]
  },
  {
   "cell_type": "code",
   "execution_count": 77,
   "metadata": {},
   "outputs": [],
   "source": [
    "ST=df[df['Position']=='ST'].sort_values(by='Overall',ascending=False).nlargest(columns='Overall',n=5)"
   ]
  },
  {
   "cell_type": "code",
   "execution_count": 79,
   "metadata": {},
   "outputs": [],
   "source": [
    "LW=df[df['Position']=='LW'].sort_values(by='Overall',ascending=False).nlargest(columns='Overall',n=5)"
   ]
  },
  {
   "cell_type": "code",
   "execution_count": 80,
   "metadata": {},
   "outputs": [],
   "source": [
    "GK=df[df['Position']=='GK'].sort_values(by='Overall',ascending=False).nlargest(columns='Overall',n=5)"
   ]
  },
  {
   "cell_type": "code",
   "execution_count": 81,
   "metadata": {},
   "outputs": [],
   "source": [
    "RCM=df[df['Position']=='RCM'].sort_values(by='Overall',ascending=False).nlargest(columns='Overall',n=5)"
   ]
  },
  {
   "cell_type": "code",
   "execution_count": 82,
   "metadata": {},
   "outputs": [],
   "source": [
    "LF=df[df['Position']=='LF'].sort_values(by='Overall',ascending=False).nlargest(columns='Overall',n=5)"
   ]
  },
  {
   "cell_type": "code",
   "execution_count": 83,
   "metadata": {},
   "outputs": [],
   "source": [
    "RS=df[df['Position']=='RS'].sort_values(by='Overall',ascending=False).nlargest(columns='Overall',n=5)"
   ]
  },
  {
   "cell_type": "code",
   "execution_count": 84,
   "metadata": {},
   "outputs": [],
   "source": [
    "RCB=df[df['Position']=='RCB'].sort_values(by='Overall',ascending=False).nlargest(columns='Overall',n=5)"
   ]
  },
  {
   "cell_type": "code",
   "execution_count": 85,
   "metadata": {},
   "outputs": [],
   "source": [
    "LCM=df[df['Position']=='LCM'].sort_values(by='Overall',ascending=False).nlargest(columns='Overall',n=5)"
   ]
  },
  {
   "cell_type": "code",
   "execution_count": 86,
   "metadata": {},
   "outputs": [],
   "source": [
    "CB=df[df['Position']=='CB'].sort_values(by='Overall',ascending=False).nlargest(columns='Overall',n=5)"
   ]
  },
  {
   "cell_type": "code",
   "execution_count": 92,
   "metadata": {},
   "outputs": [],
   "source": [
    "LCB=df[df['Position']=='LCB'].sort_values(by='Overall',ascending=False).nlargest(columns='Overall',n=5)"
   ]
  },
  {
   "cell_type": "code",
   "execution_count": 90,
   "metadata": {},
   "outputs": [],
   "source": [
    "CDM=df[df['Position']=='CDM'].sort_values(by='Overall',ascending=False).nlargest(columns='Overall',n=5)"
   ]
  },
  {
   "cell_type": "code",
   "execution_count": 89,
   "metadata": {},
   "outputs": [],
   "source": [
    "CAM=df[df['Position']=='CAM'].sort_values(by='Overall',ascending=False).nlargest(columns='Overall',n=5)"
   ]
  },
  {
   "cell_type": "code",
   "execution_count": 91,
   "metadata": {},
   "outputs": [],
   "source": [
    "LS=df[df['Position']=='LS'].sort_values(by='Overall',ascending=False).nlargest(columns='Overall',n=5)"
   ]
  },
  {
   "cell_type": "code",
   "execution_count": 93,
   "metadata": {},
   "outputs": [],
   "source": [
    "LDM=df[df['Position']=='LDM'].sort_values(by='Overall',ascending=False).nlargest(columns='Overall',n=5)"
   ]
  },
  {
   "cell_type": "code",
   "execution_count": 94,
   "metadata": {},
   "outputs": [],
   "source": [
    "RM=df[df['Position']=='RM'].sort_values(by='Overall',ascending=False).nlargest(columns='Overall',n=5)"
   ]
  },
  {
   "cell_type": "code",
   "execution_count": 95,
   "metadata": {},
   "outputs": [],
   "source": [
    "LAM=df[df['Position']=='LAM'].sort_values(by='Overall',ascending=False).nlargest(columns='Overall',n=5)"
   ]
  },
  {
   "cell_type": "code",
   "execution_count": 96,
   "metadata": {},
   "outputs": [],
   "source": [
    "LM=df[df['Position']=='LM'].sort_values(by='Overall',ascending=False).nlargest(columns='Overall',n=5)"
   ]
  },
  {
   "cell_type": "code",
   "execution_count": 97,
   "metadata": {},
   "outputs": [],
   "source": [
    "LB=df[df['Position']=='LB'].sort_values(by='Overall',ascending=False).nlargest(columns='Overall',n=5)"
   ]
  },
  {
   "cell_type": "code",
   "execution_count": 98,
   "metadata": {},
   "outputs": [],
   "source": [
    "RDM=df[df['Position']=='RDM'].sort_values(by='Overall',ascending=False).nlargest(columns='Overall',n=5)"
   ]
  },
  {
   "cell_type": "code",
   "execution_count": 99,
   "metadata": {},
   "outputs": [],
   "source": [
    "RW=df[df['Position']=='RW'].sort_values(by='Overall',ascending=False).nlargest(columns='Overall',n=5)"
   ]
  },
  {
   "cell_type": "code",
   "execution_count": 100,
   "metadata": {},
   "outputs": [],
   "source": [
    "CM=df[df['Position']=='CM'].sort_values(by='Overall',ascending=False).nlargest(columns='Overall',n=5)"
   ]
  },
  {
   "cell_type": "code",
   "execution_count": 101,
   "metadata": {},
   "outputs": [],
   "source": [
    "RB=df[df['Position']=='RB'].sort_values(by='Overall',ascending=False).nlargest(columns='Overall',n=5)"
   ]
  },
  {
   "cell_type": "code",
   "execution_count": 102,
   "metadata": {},
   "outputs": [],
   "source": [
    "RAM=df[df['Position']=='RAM'].sort_values(by='Overall',ascending=False).nlargest(columns='Overall',n=5)"
   ]
  },
  {
   "cell_type": "code",
   "execution_count": 105,
   "metadata": {},
   "outputs": [],
   "source": [
    "LWB=df[df['Position']=='LWB'].sort_values(by='Overall',ascending=False).nlargest(columns='Overall',n=5)"
   ]
  },
  {
   "cell_type": "code",
   "execution_count": 104,
   "metadata": {},
   "outputs": [],
   "source": [
    "RWB=df[df['Position']=='RWB'].sort_values(by='Overall',ascending=False).nlargest(columns='Overall',n=5)"
   ]
  },
  {
   "cell_type": "code",
   "execution_count": 103,
   "metadata": {},
   "outputs": [],
   "source": [
    "CF=df[df['Position']=='CF'].sort_values(by='Overall',ascending=False).nlargest(columns='Overall',n=5)"
   ]
  },
  {
   "cell_type": "code",
   "execution_count": 179,
   "metadata": {},
   "outputs": [],
   "source": [
    "l=[RF, ST, LW, GK, RCM, LF, RS, RCB, LCM, CB,\n",
    "       LDM, CAM, CDM, LS, LCB, RM, LAM, LM, LB, RDM,\n",
    "       RW, CM, RB, RAM, CF, RWB, LWB]"
   ]
  },
  {
   "cell_type": "markdown",
   "metadata": {},
   "source": [
    "#### a) Are there any players appearing in more than one Table. Please point out such players."
   ]
  },
  {
   "cell_type": "code",
   "execution_count": 180,
   "metadata": {},
   "outputs": [],
   "source": [
    "from itertools import combinations"
   ]
  },
  {
   "cell_type": "code",
   "execution_count": 181,
   "metadata": {},
   "outputs": [
    {
     "name": "stdout",
     "output_type": "stream",
     "text": [
      "[[], [], [], [], [], [], [], [], [], [], [], [], [], [], [], [], [], [], [], [], [], [], [], [], [], [], [], [], [], [], [], [], [], [], [], [], [], [], [], [], [], [], [], [], [], [], [], [], [], [], [], [], [], [], [], [], [], [], [], [], [], [], [], [], [], [], [], [], [], [], [], [], [], [], [], [], [], [], [], [], [], [], [], [], [], [], [], [], [], [], [], [], [], [], [], [], [], [], [], [], [], [], [], [], [], [], [], [], [], [], [], [], [], [], [], [], [], [], [], [], [], [], [], [], [], [], [], [], [], [], [], [], [], [], [], [], [], [], [], [], [], [], [], [], [], [], [], [], [], [], [], [], [], [], [], [], [], [], [], [], [], [], [], [], [], [], [], [], [], [], [], [], [], [], [], [], [], [], [], [], [], [], [], [], [], [], [], [], [], [], [], [], [], [], [], [], [], [], [], [], [], [], [], [], [], [], [], [], [], [], [], [], [], [], [], [], [], [], [], [], [], [], [], [], [], [], [], [], [], [], [], [], [], [], [], [], [], [], [], [], [], [], [], [], [], [], [], [], [], [], [], [], [], [], [], [], [], [], [], [], [], [], [], [], [], [], [], [], [], [], [], [], [], [], [], [], [], [], [], [], [], [], [], [], [], [], [], [], [], [], [], [], [], [], [], [], [], [], [], [], [], [], [], [], [], [], [], [], [], [], [], [], [], [], [], [], [], [], [], [], [], [], [], [], [], [], [], [], [], [], [], [], [], [], [], [], [], [], [], [], [], [], [], [], [], [], [], [], [], [], []]\n"
     ]
    }
   ],
   "source": [
    "players=[]\n",
    "for x,y in combinations(l, 2):\n",
    "    z=pd.merge(x,y,on='ID')\n",
    "    players.append(list(z['ID'].values))\n",
    "       \n",
    "print(players)\n",
    "\n",
    "    \n",
    "    \n",
    "    \n",
    "    "
   ]
  },
  {
   "cell_type": "markdown",
   "metadata": {},
   "source": [
    "There are no players common in more than one table"
   ]
  },
  {
   "cell_type": "markdown",
   "metadata": {},
   "source": [
    "#### b) What is the average wage one can expect to pay for the top 5 in every position?"
   ]
  },
  {
   "cell_type": "code",
   "execution_count": 140,
   "metadata": {
    "scrolled": true
   },
   "outputs": [
    {
     "name": "stdout",
     "output_type": "stream",
     "text": [
      "The average wage one can expect to pay for the top 5 in RF position is 148000.0\n",
      "The average wage one can expect to pay for the top 5 in ST position is 294000.0\n",
      "The average wage one can expect to pay for the top 5 in LW position is 261000.0\n",
      "The average wage one can expect to pay for the top 5 in GK position is 192800.0\n",
      "The average wage one can expect to pay for the top 5 in RCM position is 240800.0\n",
      "The average wage one can expect to pay for the top 5 in LF position is 121200.0\n",
      "The average wage one can expect to pay for the top 5 in RS position is 132200.0\n",
      "The average wage one can expect to pay for the top 5 in RCB position is 231000.0\n",
      "The average wage one can expect to pay for the top 5 in LCM position is 184400.0\n",
      "The average wage one can expect to pay for the top 5 in CB position is 139600.0\n",
      "The average wage one can expect to pay for the top 5 in LDM position is 126600.0\n",
      "The average wage one can expect to pay for the top 5 in CAM position is 174000.0\n",
      "The average wage one can expect to pay for the top 5 in CDM position is 217000.0\n",
      "The average wage one can expect to pay for the top 5 in LS position is 130200.0\n",
      "The average wage one can expect to pay for the top 5 in LCB position is 162000.0\n",
      "The average wage one can expect to pay for the top 5 in RM position is 131400.0\n",
      "The average wage one can expect to pay for the top 5 in LAM position is 81600.0\n",
      "The average wage one can expect to pay for the top 5 in LM position is 164600.0\n",
      "The average wage one can expect to pay for the top 5 in LB position is 177200.0\n",
      "The average wage one can expect to pay for the top 5 in RDM position is 105000.0\n",
      "The average wage one can expect to pay for the top 5 in RW position is 202000.0\n",
      "The average wage one can expect to pay for the top 5 in CM position is 130600.0\n",
      "The average wage one can expect to pay for the top 5 in RB position is 155400.0\n",
      "The average wage one can expect to pay for the top 5 in RAM position is 45400.0\n",
      "The average wage one can expect to pay for the top 5 in CF position is 47400.0\n",
      "The average wage one can expect to pay for the top 5 in RWB position is 44200.0\n",
      "The average wage one can expect to pay for the top 5 in LWB position is 34200.0\n"
     ]
    }
   ],
   "source": [
    "for i in l:\n",
    "    print('The average wage one can expect to pay for the top 5 in',i['Position'].unique()[0],'position is',i['Wage'].mean())\n",
    "    "
   ]
  },
  {
   "cell_type": "code",
   "execution_count": 223,
   "metadata": {},
   "outputs": [
    {
     "data": {
      "text/plain": [
       "{'RF': 148000.0,\n",
       " 'ST': 294000.0,\n",
       " 'LW': 261000.0,\n",
       " 'GK': 192800.0,\n",
       " 'RCM': 240800.0,\n",
       " 'LF': 121200.0,\n",
       " 'RS': 132200.0,\n",
       " 'RCB': 231000.0,\n",
       " 'LCM': 184400.0,\n",
       " 'CB': 139600.0,\n",
       " 'LDM': 126600.0,\n",
       " 'CAM': 174000.0,\n",
       " 'CDM': 217000.0,\n",
       " 'LS': 130200.0,\n",
       " 'LCB': 162000.0,\n",
       " 'RM': 131400.0,\n",
       " 'LAM': 81600.0,\n",
       " 'LM': 164600.0,\n",
       " 'LB': 177200.0,\n",
       " 'RDM': 105000.0,\n",
       " 'RW': 202000.0,\n",
       " 'CM': 130600.0,\n",
       " 'RB': 155400.0,\n",
       " 'RAM': 45400.0,\n",
       " 'CF': 47400.0,\n",
       " 'RWB': 44200.0,\n",
       " 'LWB': 34200.0}"
      ]
     },
     "execution_count": 223,
     "metadata": {},
     "output_type": "execute_result"
    }
   ],
   "source": [
    "a={}\n",
    "for i in l:\n",
    "    a[i['Position'].unique()[0]]=i['Wage'].mean()\n",
    "a"
   ]
  },
  {
   "cell_type": "code",
   "execution_count": 236,
   "metadata": {},
   "outputs": [
    {
     "data": {
      "text/html": [
       "<div>\n",
       "<style scoped>\n",
       "    .dataframe tbody tr th:only-of-type {\n",
       "        vertical-align: middle;\n",
       "    }\n",
       "\n",
       "    .dataframe tbody tr th {\n",
       "        vertical-align: top;\n",
       "    }\n",
       "\n",
       "    .dataframe thead th {\n",
       "        text-align: right;\n",
       "    }\n",
       "</style>\n",
       "<table border=\"1\" class=\"dataframe\">\n",
       "  <thead>\n",
       "    <tr style=\"text-align: right;\">\n",
       "      <th></th>\n",
       "      <th>mean</th>\n",
       "    </tr>\n",
       "  </thead>\n",
       "  <tbody>\n",
       "    <tr>\n",
       "      <th>ST</th>\n",
       "      <td>294000.0</td>\n",
       "    </tr>\n",
       "  </tbody>\n",
       "</table>\n",
       "</div>"
      ],
      "text/plain": [
       "        mean\n",
       "ST  294000.0"
      ]
     },
     "execution_count": 236,
     "metadata": {},
     "output_type": "execute_result"
    }
   ],
   "source": [
    "d=pd.DataFrame(a,index=['mean']).T\n",
    "d[d['mean']==d['mean'].max()]"
   ]
  },
  {
   "cell_type": "code",
   "execution_count": 235,
   "metadata": {},
   "outputs": [
    {
     "data": {
      "text/html": [
       "<div>\n",
       "<style scoped>\n",
       "    .dataframe tbody tr th:only-of-type {\n",
       "        vertical-align: middle;\n",
       "    }\n",
       "\n",
       "    .dataframe tbody tr th {\n",
       "        vertical-align: top;\n",
       "    }\n",
       "\n",
       "    .dataframe thead th {\n",
       "        text-align: right;\n",
       "    }\n",
       "</style>\n",
       "<table border=\"1\" class=\"dataframe\">\n",
       "  <thead>\n",
       "    <tr style=\"text-align: right;\">\n",
       "      <th></th>\n",
       "      <th>mean</th>\n",
       "    </tr>\n",
       "  </thead>\n",
       "  <tbody>\n",
       "    <tr>\n",
       "      <th>LWB</th>\n",
       "      <td>34200.0</td>\n",
       "    </tr>\n",
       "  </tbody>\n",
       "</table>\n",
       "</div>"
      ],
      "text/plain": [
       "        mean\n",
       "LWB  34200.0"
      ]
     },
     "execution_count": 235,
     "metadata": {},
     "output_type": "execute_result"
    }
   ],
   "source": [
    "d[d['mean']==d['mean'].min()]"
   ]
  },
  {
   "cell_type": "markdown",
   "metadata": {},
   "source": [
    "From above, we can say that the average wage of ST is the maximum and LWB is the least for top 5."
   ]
  },
  {
   "cell_type": "code",
   "execution_count": null,
   "metadata": {},
   "outputs": [],
   "source": []
  }
 ],
 "metadata": {
  "kernelspec": {
   "display_name": "Python 3",
   "language": "python",
   "name": "python3"
  },
  "language_info": {
   "codemirror_mode": {
    "name": "ipython",
    "version": 3
   },
   "file_extension": ".py",
   "mimetype": "text/x-python",
   "name": "python",
   "nbconvert_exporter": "python",
   "pygments_lexer": "ipython3",
   "version": "3.8.5"
  }
 },
 "nbformat": 4,
 "nbformat_minor": 4
}
